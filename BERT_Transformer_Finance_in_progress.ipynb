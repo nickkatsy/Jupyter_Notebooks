{
 "cells": [
  {
   "cell_type": "code",
   "execution_count": 1,
   "id": "76127fa9-c9c0-407e-917a-2f294c6be8ea",
   "metadata": {},
   "outputs": [
    {
     "name": "stdout",
     "output_type": "stream",
     "text": [
      "<class 'pandas.core.frame.DataFrame'>\n",
      "RangeIndex: 5842 entries, 0 to 5841\n",
      "Data columns (total 2 columns):\n",
      " #   Column     Non-Null Count  Dtype \n",
      "---  ------     --------------  ----- \n",
      " 0   Sentence   5842 non-null   object\n",
      " 1   Sentiment  5842 non-null   object\n",
      "dtypes: object(2)\n",
      "memory usage: 91.4+ KB\n"
     ]
    },
    {
     "data": {
      "text/html": [
       "<div>\n",
       "<style scoped>\n",
       "    .dataframe tbody tr th:only-of-type {\n",
       "        vertical-align: middle;\n",
       "    }\n",
       "\n",
       "    .dataframe tbody tr th {\n",
       "        vertical-align: top;\n",
       "    }\n",
       "\n",
       "    .dataframe thead th {\n",
       "        text-align: right;\n",
       "    }\n",
       "</style>\n",
       "<table border=\"1\" class=\"dataframe\">\n",
       "  <thead>\n",
       "    <tr style=\"text-align: right;\">\n",
       "      <th></th>\n",
       "      <th>Sentence</th>\n",
       "      <th>Sentiment</th>\n",
       "    </tr>\n",
       "  </thead>\n",
       "  <tbody>\n",
       "    <tr>\n",
       "      <th>0</th>\n",
       "      <td>The GeoSolutions technology will leverage Bene...</td>\n",
       "      <td>positive</td>\n",
       "    </tr>\n",
       "    <tr>\n",
       "      <th>1</th>\n",
       "      <td>$ESI on lows, down $1.50 to $2.50 BK a real po...</td>\n",
       "      <td>negative</td>\n",
       "    </tr>\n",
       "    <tr>\n",
       "      <th>2</th>\n",
       "      <td>For the last quarter of 2010 , Componenta 's n...</td>\n",
       "      <td>positive</td>\n",
       "    </tr>\n",
       "    <tr>\n",
       "      <th>3</th>\n",
       "      <td>According to the Finnish-Russian Chamber of Co...</td>\n",
       "      <td>neutral</td>\n",
       "    </tr>\n",
       "    <tr>\n",
       "      <th>4</th>\n",
       "      <td>The Swedish buyout firm has sold its remaining...</td>\n",
       "      <td>neutral</td>\n",
       "    </tr>\n",
       "    <tr>\n",
       "      <th>5</th>\n",
       "      <td>$SPY wouldn't be surprised to see a green close</td>\n",
       "      <td>positive</td>\n",
       "    </tr>\n",
       "    <tr>\n",
       "      <th>6</th>\n",
       "      <td>Shell's $70 Billion BG Deal Meets Shareholder ...</td>\n",
       "      <td>negative</td>\n",
       "    </tr>\n",
       "    <tr>\n",
       "      <th>7</th>\n",
       "      <td>SSH COMMUNICATIONS SECURITY CORP STOCK EXCHANG...</td>\n",
       "      <td>negative</td>\n",
       "    </tr>\n",
       "    <tr>\n",
       "      <th>8</th>\n",
       "      <td>Kone 's net sales rose by some 14 % year-on-ye...</td>\n",
       "      <td>positive</td>\n",
       "    </tr>\n",
       "    <tr>\n",
       "      <th>9</th>\n",
       "      <td>The Stockmann department store will have a tot...</td>\n",
       "      <td>neutral</td>\n",
       "    </tr>\n",
       "  </tbody>\n",
       "</table>\n",
       "</div>"
      ],
      "text/plain": [
       "                                            Sentence Sentiment\n",
       "0  The GeoSolutions technology will leverage Bene...  positive\n",
       "1  $ESI on lows, down $1.50 to $2.50 BK a real po...  negative\n",
       "2  For the last quarter of 2010 , Componenta 's n...  positive\n",
       "3  According to the Finnish-Russian Chamber of Co...   neutral\n",
       "4  The Swedish buyout firm has sold its remaining...   neutral\n",
       "5    $SPY wouldn't be surprised to see a green close  positive\n",
       "6  Shell's $70 Billion BG Deal Meets Shareholder ...  negative\n",
       "7  SSH COMMUNICATIONS SECURITY CORP STOCK EXCHANG...  negative\n",
       "8  Kone 's net sales rose by some 14 % year-on-ye...  positive\n",
       "9  The Stockmann department store will have a tot...   neutral"
      ]
     },
     "execution_count": 1,
     "metadata": {},
     "output_type": "execute_result"
    }
   ],
   "source": [
    "import torch\n",
    "import torch.nn as nn\n",
    "import pandas as pd\n",
    "import matplotlib.pyplot as plt\n",
    "from transformers import BertTokenizer,BertModel\n",
    "\n",
    "path = \"C:/ML/python/data/data.csv\"\n",
    "df = pd.read_csv(path)\n",
    "df.info()\n",
    "df.isna().sum()\n",
    "df.duplicated().sum()\n",
    "df.drop_duplicates(inplace=True)\n",
    "\n",
    "\n",
    "\n",
    "df.head(10)"
   ]
  },
  {
   "cell_type": "code",
   "execution_count": 2,
   "id": "e9de1158-6d78-419e-9dfb-295873153b79",
   "metadata": {},
   "outputs": [
    {
     "data": {
      "image/png": "[encoded data removed]",
      "text/plain": [
       "<Figure size 640x480 with 1 Axes>"
      ]
     },
     "metadata": {},
     "output_type": "display_data"
    }
   ],
   "source": [
    "df['Sentiment'].value_counts().plot(kind='bar',rot=0)\n",
    "plt.show()"
   ]
  },
  {
   "cell_type": "code",
   "execution_count": 3,
   "id": "312da189-d9fb-48b7-a7b1-b590d8fc395d",
   "metadata": {},
   "outputs": [],
   "source": [
    "df['text'] = df['Sentence']\n",
    "df.drop(\"Sentence\",axis=1,inplace=True)\n"
   ]
  },
  {
   "cell_type": "code",
   "execution_count": 4,
   "id": "ec7dbd2f-0beb-4cb6-8c13-0dd84086f001",
   "metadata": {},
   "outputs": [
    {
     "data": {
      "text/plain": [
       "0    The GeoSolutions technology will leverage Bene...\n",
       "1    $ESI on lows, down $1.50 to $2.50 BK a real po...\n",
       "2    For the last quarter of 2010 , Componenta 's n...\n",
       "3    According to the Finnish-Russian Chamber of Co...\n",
       "4    The Swedish buyout firm has sold its remaining...\n",
       "5      $SPY wouldn't be surprised to see a green close\n",
       "6    Shell's $70 Billion BG Deal Meets Shareholder ...\n",
       "7    SSH COMMUNICATIONS SECURITY CORP STOCK EXCHANG...\n",
       "8    Kone 's net sales rose by some 14 % year-on-ye...\n",
       "9    The Stockmann department store will have a tot...\n",
       "Name: text, dtype: object"
      ]
     },
     "execution_count": 4,
     "metadata": {},
     "output_type": "execute_result"
    }
   ],
   "source": [
    "df['text'].head(10)"
   ]
  },
  {
   "cell_type": "code",
   "execution_count": 9,
   "id": "3d609c61-aae3-4d79-8121-d0fdd623fecd",
   "metadata": {},
   "outputs": [
    {
     "name": "stderr",
     "output_type": "stream",
     "text": [
      "No model was supplied, defaulted to distilbert/distilbert-base-uncased-finetuned-sst-2-english and revision af0f99b (https://huggingface.co/distilbert/distilbert-base-uncased-finetuned-sst-2-english).\n",
      "Using a pipeline without specifying a model name and revision in production is not recommended.\n"
     ]
    },
    {
     "name": "stdout",
     "output_type": "stream",
     "text": [
      "the senitment score of the negative text:  [{'label': 'NEGATIVE', 'score': 0.9855140447616577}]\n",
      "the senitment score of the nice text:  [{'label': 'POSITIVE', 'score': 0.5755005478858948}]\n"
     ]
    }
   ],
   "source": [
    "tokenizer = BertTokenizer.from_pretrained(\"bert-base-uncased\")\n",
    "\n",
    "\n",
    "sample_text_with_negative_sentiment = \" HEY, YOU!? What on Earth are you looking at you FOOL!? do not just stand there, go!\"\n",
    "tokenizer(sample_text_with_negative_sentiment)\n",
    "\n",
    "from transformers import pipeline\n",
    "senitment_neg = pipeline(\"sentiment-analysis\")\n",
    "\n",
    "print(\"the senitment score of the negative text: \",senitment_neg(sample_text_with_negative_sentiment))\n",
    "\n",
    "### ok\n",
    "postive_sentiment = \"I love you so much it hurts\"\n",
    "print(\"the senitment score of the nice text: \",senitment_neg(postive_sentiment))\n",
    "\n",
    "\n",
    "\n"
   ]
  },
  {
   "cell_type": "code",
   "execution_count": 11,
   "id": "a2033b89-6193-4dc2-ab14-b8cc378bf2aa",
   "metadata": {},
   "outputs": [],
   "source": [
    "### ok\n",
    "train_size = 0.8\n",
    "\n",
    "df_train = df.sample(frac=train_size,random_state=42).reset_index(drop=True)\n",
    "df_val = df.sample(frac=0.05,random_state=42).reset_index(drop=True)\n",
    "\n",
    "MAX_LEN = 512\n",
    "\n",
    "\n",
    "train_batch_size = 32\n",
    "num_epochs = 4\n",
    "learning_rate=1e-05\n",
    "val_batch_size = 32\n",
    "\n",
    "from torch.utils.data import Dataset\n",
    "\n",
    "\n",
    "class FinanceDataset(Dataset):\n",
    "    def __init__(self, df, tokenizer, max_len):\n",
    "        self.df = df\n",
    "        self.tokenizer = tokenizer\n",
    "        self.max_len = max_len\n",
    "        self.title = self.df['text'].values.tolist()\n",
    "        self.targets = self.df['Sentiment'].tolist() \n",
    "    \n",
    "    def __len__(self):\n",
    "        return len(self.title)\n",
    "    \n",
    "    def __getitem__(self, index: int):\n",
    "        single_row = self.df.iloc[index]\n",
    "        text_ = single_row['text']\n",
    "        labels = single_row['Sentiment']\n",
    "\n",
    "        inputs = self.tokenizer.encode_plus(\n",
    "            text_,\n",
    "            add_special_tokens=True,\n",
    "            max_length=self.max_len,\n",
    "            padding='max_length',\n",
    "            return_token_type_ids=True,\n",
    "            truncation=True,\n",
    "            return_attention_mask=True,\n",
    "            return_tensors='pt'\n",
    "        )\n",
    "        \n",
    "\n",
    "        input_ids = inputs['input_ids'].flatten()\n",
    "        attention_mask = inputs['attention_mask'].flatten()\n",
    "        token_type_ids = inputs['token_type_ids'].flatten()\n",
    "        \n",
    "        return {\n",
    "            'input_ids': input_ids,\n",
    "            'attention_mask': attention_mask,\n",
    "            'token_type_ids': token_type_ids,\n",
    "            'targets': torch.tensor(labels, dtype=torch.float)\n",
    "        }\n",
    "        \n",
    "\n",
    "\n",
    "\n",
    "training_data = FinanceDataset(df_train, tokenizer, MAX_LEN)\n",
    "val_data = FinanceDataset(df_val, tokenizer, MAX_LEN)\n",
    "\n",
    "\n",
    "from torch.utils.data import DataLoader\n",
    "\n",
    "train_loader = DataLoader(training_data, batch_size=train_batch_size, shuffle=True)\n",
    "val_loader = DataLoader(val_data, batch_size=val_batch_size, shuffle=False)\n"
   ]
  },
  {
   "cell_type": "code",
   "execution_count": 12,
   "id": "3b5c785b-8b14-45e4-865e-10410fbdb04d",
   "metadata": {},
   "outputs": [],
   "source": [
    "from transformers import BertModel\n",
    "\n",
    "class BERTClass(nn.Module):\n",
    "    def __init__(self):\n",
    "        super(BERTClass, self).__init__()\n",
    "        self.bert_model = BertModel.from_pretrained('bert-base-uncased', return_dict=True)\n",
    "        self.dropout = nn.Dropout(0.3)\n",
    "        self.linear = nn.Linear(768,6)\n",
    "    \n",
    "    def forward(self, input_ids, attention_mask, token_type_ids):\n",
    "        output = self.bert_model(\n",
    "            input_ids,\n",
    "            attention_mask=attention_mask,\n",
    "            token_type_ids=token_type_ids\n",
    "        )\n",
    "        output_dropout = self.dropout(output.pooler_output)\n",
    "        output = self.linear(output_dropout)\n",
    "        return output\n",
    "\n",
    "model = BERTClass()\n",
    "\n"
   ]
  },
  {
   "cell_type": "code",
   "execution_count": 13,
   "id": "e8fb593b-5c78-4c63-87fa-33faad81411b",
   "metadata": {},
   "outputs": [],
   "source": [
    "import torch.optim as optim\n",
    "\n",
    "\n",
    "loss_fn = nn.CrossEntropyLoss()\n",
    "\n",
    "\n",
    "\n",
    "optimizer = optim.Adam(model.parameters(), lr=learning_rate)\n",
    "\n",
    "\n",
    "def train_epoch(model, data_loader, loss_fn, optimizer, device):\n",
    "    model.train()\n",
    "    running_loss = 0.0\n",
    "    for batch in data_loader:\n",
    "        input_ids = batch['input_ids'].to(device)\n",
    "        attention_mask = batch['attention_mask'].to(device)\n",
    "        token_type_ids = batch['token_type_ids'].to(device)\n",
    "        targets = batch['targets'].to(device)\n",
    "        \n",
    "        optimizer.zero_grad()\n",
    "        outputs = model(input_ids, attention_mask, token_type_ids)\n",
    "        loss = loss_fn(outputs, targets)\n",
    "        loss.backward()\n",
    "        optimizer.step()\n",
    "        \n",
    "        running_loss += loss.item()\n",
    "    \n",
    "    return running_loss / len(data_loader)\n",
    "\n",
    "### this is so fucking hard\n",
    "## coming back later\n"
   ]
  },
  {
   "cell_type": "code",
   "execution_count": null,
   "id": "8c8bc004-7496-46bd-815c-62ab36140d1b",
   "metadata": {},
   "outputs": [],
   "source": []
  }
 ],
 "metadata": {
  "kernelspec": {
   "display_name": "Python 3 (ipykernel)",
   "language": "python",
   "name": "python3"
  },
  "language_info": {
   "codemirror_mode": {
    "name": "ipython",
    "version": 3
   },
   "file_extension": ".py",
   "mimetype": "text/x-python",
   "name": "python",
   "nbconvert_exporter": "python",
   "pygments_lexer": "ipython3",
   "version": "3.12.4"
  }
 },
 "nbformat": 4,
 "nbformat_minor": 5
}
