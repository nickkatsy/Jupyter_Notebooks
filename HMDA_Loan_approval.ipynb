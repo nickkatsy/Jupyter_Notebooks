{
 "cells": [
  {
   "cell_type": "code",
   "execution_count": 1,
   "id": "228c7123",
   "metadata": {},
   "outputs": [],
   "source": [
    "# Jupyter Notebook trial"
   ]
  },
  {
   "cell_type": "code",
   "execution_count": 1,
   "id": "7acb1fe0",
   "metadata": {},
   "outputs": [],
   "source": [
    "# import libraries\n",
    "import pandas as pd\n",
    "import warnings\n",
    "warnings.filterwarnings('ignore')\n",
    "import matplotlib.pyplot as plt"
   ]
  },
  {
   "cell_type": "code",
   "execution_count": 3,
   "id": "b884ce64",
   "metadata": {},
   "outputs": [
    {
     "name": "stdout",
     "output_type": "stream",
     "text": [
      "<class 'pandas.core.frame.DataFrame'>\n",
      "RangeIndex: 2380 entries, 0 to 2379\n",
      "Data columns (total 62 columns):\n",
      " #   Column   Non-Null Count  Dtype  \n",
      "---  ------   --------------  -----  \n",
      " 0   seq      2380 non-null   int64  \n",
      " 1   s3       2380 non-null   int64  \n",
      " 2   s4       2380 non-null   int64  \n",
      " 3   s5       2380 non-null   int64  \n",
      " 4   s6       2380 non-null   int64  \n",
      " 5   s7       2380 non-null   int64  \n",
      " 6   s9       2380 non-null   int64  \n",
      " 7   s11      2380 non-null   int64  \n",
      " 8   s13      2380 non-null   int64  \n",
      " 9   s14      2379 non-null   float64\n",
      " 10  s15      2380 non-null   int64  \n",
      " 11  s16      2379 non-null   float64\n",
      " 12  s17      2380 non-null   float64\n",
      " 13  s18      2265 non-null   float64\n",
      " 14  s19a     193 non-null    object \n",
      " 15  s19b     246 non-null    float64\n",
      " 16  s19c     86 non-null     float64\n",
      " 17  s19d     13 non-null     float64\n",
      " 18  s20      2380 non-null   float64\n",
      " 19  s23a     2378 non-null   object \n",
      " 20  s24a     2380 non-null   int64  \n",
      " 21  s25a     2380 non-null   float64\n",
      " 22  s26a     2380 non-null   float64\n",
      " 23  s27a     2380 non-null   int64  \n",
      " 24  s30a     2380 non-null   float64\n",
      " 25  s30c     2380 non-null   float64\n",
      " 26  s31a     2380 non-null   float64\n",
      " 27  s31c     2380 non-null   float64\n",
      " 28  s32      2380 non-null   float64\n",
      " 29  s33      2380 non-null   float64\n",
      " 30  s34      2380 non-null   float64\n",
      " 31  s35      2380 non-null   float64\n",
      " 32  s39      2380 non-null   float64\n",
      " 33  s40      2380 non-null   int64  \n",
      " 34  s41      2380 non-null   float64\n",
      " 35  s42      2380 non-null   int64  \n",
      " 36  s43      2380 non-null   int64  \n",
      " 37  s44      2380 non-null   int64  \n",
      " 38  s45      2380 non-null   float64\n",
      " 39  s46      2380 non-null   float64\n",
      " 40  s47      2380 non-null   int64  \n",
      " 41  s48      2380 non-null   float64\n",
      " 42  s49      383 non-null    object \n",
      " 43  s50      2380 non-null   float64\n",
      " 44  s51      2380 non-null   int64  \n",
      " 45  s52      2380 non-null   int64  \n",
      " 46  s53      2380 non-null   int64  \n",
      " 47  s54      2379 non-null   object \n",
      " 48  s55      2380 non-null   int64  \n",
      " 49  s56      2380 non-null   int64  \n",
      " 50  s57      2380 non-null   float64\n",
      " 51  netw     2380 non-null   float64\n",
      " 52  uria     2380 non-null   float64\n",
      " 53  rtdum    2380 non-null   int64  \n",
      " 54  bd       2380 non-null   int64  \n",
      " 55  mi       2380 non-null   int64  \n",
      " 56  old      2380 non-null   int64  \n",
      " 57  vr       2380 non-null   int64  \n",
      " 58  school   2380 non-null   float64\n",
      " 59  chval    2380 non-null   float64\n",
      " 60  dnotown  2380 non-null   int64  \n",
      " 61  dprop    2380 non-null   int64  \n",
      "dtypes: float64(29), int64(29), object(4)\n",
      "memory usage: 1.1+ MB\n"
     ]
    },
    {
     "data": {
      "text/plain": [
       "seq        0\n",
       "s3         0\n",
       "s4         0\n",
       "s5         0\n",
       "s6         0\n",
       "          ..\n",
       "vr         0\n",
       "school     0\n",
       "chval      0\n",
       "dnotown    0\n",
       "dprop      0\n",
       "Length: 62, dtype: int64"
      ]
     },
     "execution_count": 3,
     "metadata": {},
     "output_type": "execute_result"
    }
   ],
   "source": [
    "# load in dataset and breif summary of the dataset\n",
    "df = pd.read_csv('https://raw.githubusercontent.com/nickkas/python_ml_ect_/master/hmda.txt',delimiter='\\t')\n",
    "\n",
    "df.info()\n",
    "\n",
    "df.isna().sum()\n",
    "df.isnull().sum()\n"
   ]
  },
  {
   "cell_type": "code",
   "execution_count": 4,
   "id": "5b8a166e",
   "metadata": {},
   "outputs": [],
   "source": [
    "#Changing the names of the variables based on the HMDA Act 2007; only changing the ones that are relevant\n",
    "\n",
    "df.rename(columns={'s5':'occupancy','s7':'approve','s11':'county','s13':'race',\n",
    "                   's15':'sex','s17':'income','s23a':'married','s27a':'self_employed',\n",
    "                   's33':'purchase_price','s34':'other_financing','s35':'liquid_assets',\n",
    "                   's40':'credit_history','s42':'chmp','s43':'chcp','s44':'chpr',\n",
    "                   's45':'debt_to_expense','s46':'di_ratio','s50':'appraisal',\n",
    "                   's53':'pmi_denied','netw':'net_worth','uria':'unemployment',\n",
    "                   'school':'education','s56':'unverifiable',\n",
    "                   's52':'pmi_sought'},inplace=True)"
   ]
  },
  {
   "cell_type": "code",
   "execution_count": 5,
   "id": "d2bf0bc3",
   "metadata": {},
   "outputs": [],
   "source": [
    "# making it so the features acurately reflect the data\n",
    "df['approve'] = [1 if X == 3 else 0 for X in df['approve']]\n",
    "df['race'] = [0 if X == 3 else 1 for X in df['race']]\n",
    "df['married'] = [1 if X == 'M' else 0 for X in df['married']]\n",
    "df['sex'] = [1 if X == 1 else 0 for X in df['sex']]\n",
    "df['credit_history'] = [1 if X == 1 else 0 for X in df['credit_history']]\n",
    "\n",
    "features = ['occupancy','race','sex','income','married','credit_history','di_ratio',\n",
    "            'pmi_denied','unverifiable','pmi_sought']"
   ]
  },
  {
   "cell_type": "code",
   "execution_count": 6,
   "id": "c2cc3f99",
   "metadata": {},
   "outputs": [
    {
     "data": {
      "text/plain": [
       "0    0.880252\n",
       "1    0.119748\n",
       "Name: approve, dtype: float64"
      ]
     },
     "execution_count": 6,
     "metadata": {},
     "output_type": "execute_result"
    }
   ],
   "source": [
    "# The Dependent Varibale is 'Approved', the whole data set is not used because many of the features are not relevant\n",
    "X = df[features]\n",
    "y = df.approve\n",
    "\n",
    "y.value_counts(normalize=True)"
   ]
  },
  {
   "cell_type": "code",
   "execution_count": 7,
   "id": "1f4636dd",
   "metadata": {},
   "outputs": [
    {
     "name": "stdout",
     "output_type": "stream",
     "text": [
      "                                 OLS Regression Results                                \n",
      "=======================================================================================\n",
      "Dep. Variable:                approve   R-squared (uncentered):                   0.519\n",
      "Model:                            OLS   Adj. R-squared (uncentered):              0.517\n",
      "Method:                 Least Squares   F-statistic:                              255.3\n",
      "Date:                Sat, 16 Dec 2023   Prob (F-statistic):                        0.00\n",
      "Time:                        14:02:09   Log-Likelihood:                          18.586\n",
      "No. Observations:                2380   AIC:                                     -17.17\n",
      "Df Residuals:                    2370   BIC:                                      40.58\n",
      "Df Model:                          10                                                  \n",
      "Covariance Type:            nonrobust                                                  \n",
      "==================================================================================\n",
      "                     coef    std err          t      P>|t|      [0.025      0.975]\n",
      "----------------------------------------------------------------------------------\n",
      "occupancy          0.2740      0.018     15.088      0.000       0.238       0.310\n",
      "race              -0.0037      0.015     -0.251      0.802      -0.033       0.025\n",
      "sex                0.0620      0.013      4.736      0.000       0.036       0.088\n",
      "income          1.244e-07   4.23e-08      2.944      0.003    4.16e-08    2.07e-07\n",
      "married           -0.0431      0.011     -3.897      0.000      -0.065      -0.021\n",
      "credit_history    -0.4366      0.017    -25.727      0.000      -0.470      -0.403\n",
      "di_ratio           0.0055      0.000     13.600      0.000       0.005       0.006\n",
      "pmi_denied         0.6104      0.037     16.386      0.000       0.537       0.683\n",
      "unverifiable       0.3486      0.024     14.509      0.000       0.302       0.396\n",
      "pmi_sought        -0.0360      0.012     -2.905      0.004      -0.060      -0.012\n",
      "==============================================================================\n",
      "Omnibus:                      876.924   Durbin-Watson:                   1.540\n",
      "Prob(Omnibus):                  0.000   Jarque-Bera (JB):             5071.635\n",
      "Skew:                           1.633   Prob(JB):                         0.00\n",
      "Kurtosis:                       9.362   Cond. No.                     9.01e+05\n",
      "==============================================================================\n",
      "\n",
      "Notes:\n",
      "[1] R² is computed without centering (uncentered) since the model does not contain a constant.\n",
      "[2] Standard Errors assume that the covariance matrix of the errors is correctly specified.\n",
      "[3] The condition number is large, 9.01e+05. This might indicate that there are\n",
      "strong multicollinearity or other numerical problems.\n"
     ]
    }
   ],
   "source": [
    "# Importing Statsmodels for the sole purpose of seeing which features are statistically significant\n",
    "import statsmodels.api as sm\n",
    "\n",
    "model = sm.OLS(y,X).fit()\n",
    "print(model.summary())"
   ]
  },
  {
   "cell_type": "code",
   "execution_count": 8,
   "id": "e9ea683e",
   "metadata": {},
   "outputs": [],
   "source": [
    "#Train/test split and preprocessing. For some reason, polynomialfeatures is the best with this data with a power of 1.\n",
    "\n",
    "from sklearn.preprocessing import PolynomialFeatures\n",
    "poly = PolynomialFeatures(1)\n",
    "poly_X = poly.fit_transform(X)\n",
    "\n",
    "\n",
    "from sklearn.model_selection import train_test_split\n",
    "\n",
    "X_train,X_test,y_train,y_test = train_test_split(X,y,test_size=.20,random_state=1)\n",
    "\n",
    "from sklearn.linear_model import LogisticRegression\n",
    "\n",
    "clf = LogisticRegression()\n",
    "clf.fit(X_train,y_train)\n",
    "\n",
    "pred = clf.predict(X_test)\n"
   ]
  },
  {
   "cell_type": "code",
   "execution_count": 9,
   "id": "496a6197",
   "metadata": {},
   "outputs": [
    {
     "name": "stdout",
     "output_type": "stream",
     "text": [
      "accuracy= 0.8949579831932774\n",
      "roc= 0.8184895833333333\n",
      "91.29925051291713\n"
     ]
    },
    {
     "data": {
      "text/plain": [
       "Text(0.5, 0, 'False Positive Rate')"
      ]
     },
     "execution_count": 9,
     "metadata": {},
     "output_type": "execute_result"
    },
    {
     "data": {
      "image/png": "[encoded data removed]",
      "text/plain": [
       "<Figure size 640x480 with 1 Axes>"
      ]
     },
     "metadata": {},
     "output_type": "display_data"
    }
   ],
   "source": [
    "# The rest of the code is for the purpose of testing the cut-off for wether or not a indiviudal in Suffolk County was \n",
    "# apporved or denied a loan and independent variables that result in the highest roc_auc score, indicate the the cut-off and\n",
    "# the over all performance of the model\n",
    "from sklearn.metrics import roc_auc_score,accuracy_score,roc_curve\n",
    "\n",
    "print('accuracy=',accuracy_score(y_test, pred))\n",
    "\n",
    "\n",
    "y_pred = clf.predict_proba(X_test)[::,1]\n",
    "\n",
    "\n",
    "print('roc=',roc_auc_score(y_test, y_pred))\n",
    "\n",
    "from sklearn.model_selection import cross_val_score\n",
    "\n",
    "cv_roc = cross_val_score(clf, poly_X,y,cv=5,scoring='roc_auc').max()\n",
    "print(cv_roc*100)\n",
    "\n",
    "fpr, tpr, _ = roc_curve(y_test, y_pred)\n",
    "\n",
    "\n",
    "\n",
    "plt.plot(fpr,tpr)\n",
    "plt.ylabel('True Positive Rate')\n",
    "plt.xlabel('False Positive Rate')"
   ]
  }
 ],
 "metadata": {
  "kernelspec": {
   "display_name": "Python 3 (ipykernel)",
   "language": "python",
   "name": "python3"
  },
  "language_info": {
   "codemirror_mode": {
    "name": "ipython",
    "version": 3
   },
   "file_extension": ".py",
   "mimetype": "text/x-python",
   "name": "python",
   "nbconvert_exporter": "python",
   "pygments_lexer": "ipython3",
   "version": "3.11.3"
  }
 },
 "nbformat": 4,
 "nbformat_minor": 5
}
