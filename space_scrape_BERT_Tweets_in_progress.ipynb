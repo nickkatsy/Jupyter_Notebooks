{
 "cells": [
  {
   "cell_type": "code",
   "execution_count": 1,
   "id": "26ba5aeb-aaf5-401d-92ae-34e44dde103a",
   "metadata": {},
   "outputs": [
    {
     "data": {
      "text/html": [
       "<div>\n",
       "<style scoped>\n",
       "    .dataframe tbody tr th:only-of-type {\n",
       "        vertical-align: middle;\n",
       "    }\n",
       "\n",
       "    .dataframe tbody tr th {\n",
       "        vertical-align: top;\n",
       "    }\n",
       "\n",
       "    .dataframe thead th {\n",
       "        text-align: right;\n",
       "    }\n",
       "</style>\n",
       "<table border=\"1\" class=\"dataframe\">\n",
       "  <thead>\n",
       "    <tr style=\"text-align: right;\">\n",
       "      <th></th>\n",
       "      <th>Unnamed: 0</th>\n",
       "      <th>count</th>\n",
       "      <th>hate_speech</th>\n",
       "      <th>offensive_language</th>\n",
       "      <th>neither</th>\n",
       "      <th>class</th>\n",
       "      <th>tweet</th>\n",
       "    </tr>\n",
       "  </thead>\n",
       "  <tbody>\n",
       "    <tr>\n",
       "      <th>0</th>\n",
       "      <td>0</td>\n",
       "      <td>3</td>\n",
       "      <td>0</td>\n",
       "      <td>0</td>\n",
       "      <td>3</td>\n",
       "      <td>2</td>\n",
       "      <td>!!! RT @mayasolovely: As a woman you shouldn't...</td>\n",
       "    </tr>\n",
       "    <tr>\n",
       "      <th>1</th>\n",
       "      <td>1</td>\n",
       "      <td>3</td>\n",
       "      <td>0</td>\n",
       "      <td>3</td>\n",
       "      <td>0</td>\n",
       "      <td>1</td>\n",
       "      <td>!!!!! RT @mleew17: boy dats cold...tyga dwn ba...</td>\n",
       "    </tr>\n",
       "    <tr>\n",
       "      <th>2</th>\n",
       "      <td>2</td>\n",
       "      <td>3</td>\n",
       "      <td>0</td>\n",
       "      <td>3</td>\n",
       "      <td>0</td>\n",
       "      <td>1</td>\n",
       "      <td>!!!!!!! RT @UrKindOfBrand Dawg!!!! RT @80sbaby...</td>\n",
       "    </tr>\n",
       "    <tr>\n",
       "      <th>3</th>\n",
       "      <td>3</td>\n",
       "      <td>3</td>\n",
       "      <td>0</td>\n",
       "      <td>2</td>\n",
       "      <td>1</td>\n",
       "      <td>1</td>\n",
       "      <td>!!!!!!!!! RT @C_G_Anderson: @viva_based she lo...</td>\n",
       "    </tr>\n",
       "    <tr>\n",
       "      <th>4</th>\n",
       "      <td>4</td>\n",
       "      <td>6</td>\n",
       "      <td>0</td>\n",
       "      <td>6</td>\n",
       "      <td>0</td>\n",
       "      <td>1</td>\n",
       "      <td>!!!!!!!!!!!!! RT @ShenikaRoberts: The shit you...</td>\n",
       "    </tr>\n",
       "    <tr>\n",
       "      <th>5</th>\n",
       "      <td>5</td>\n",
       "      <td>3</td>\n",
       "      <td>1</td>\n",
       "      <td>2</td>\n",
       "      <td>0</td>\n",
       "      <td>1</td>\n",
       "      <td>!!!!!!!!!!!!!!!!!!\"@T_Madison_x: The shit just...</td>\n",
       "    </tr>\n",
       "    <tr>\n",
       "      <th>6</th>\n",
       "      <td>6</td>\n",
       "      <td>3</td>\n",
       "      <td>0</td>\n",
       "      <td>3</td>\n",
       "      <td>0</td>\n",
       "      <td>1</td>\n",
       "      <td>!!!!!!\"@__BrighterDays: I can not just sit up ...</td>\n",
       "    </tr>\n",
       "    <tr>\n",
       "      <th>7</th>\n",
       "      <td>7</td>\n",
       "      <td>3</td>\n",
       "      <td>0</td>\n",
       "      <td>3</td>\n",
       "      <td>0</td>\n",
       "      <td>1</td>\n",
       "      <td>!!!!&amp;#8220;@selfiequeenbri: cause I'm tired of...</td>\n",
       "    </tr>\n",
       "    <tr>\n",
       "      <th>8</th>\n",
       "      <td>8</td>\n",
       "      <td>3</td>\n",
       "      <td>0</td>\n",
       "      <td>3</td>\n",
       "      <td>0</td>\n",
       "      <td>1</td>\n",
       "      <td>\" &amp;amp; you might not get ya bitch back &amp;amp; ...</td>\n",
       "    </tr>\n",
       "    <tr>\n",
       "      <th>9</th>\n",
       "      <td>9</td>\n",
       "      <td>3</td>\n",
       "      <td>1</td>\n",
       "      <td>2</td>\n",
       "      <td>0</td>\n",
       "      <td>1</td>\n",
       "      <td>\" @rhythmixx_ :hobbies include: fighting Maria...</td>\n",
       "    </tr>\n",
       "  </tbody>\n",
       "</table>\n",
       "</div>"
      ],
      "text/plain": [
       "   Unnamed: 0  count  hate_speech  offensive_language  neither  class  \\\n",
       "0           0      3            0                   0        3      2   \n",
       "1           1      3            0                   3        0      1   \n",
       "2           2      3            0                   3        0      1   \n",
       "3           3      3            0                   2        1      1   \n",
       "4           4      6            0                   6        0      1   \n",
       "5           5      3            1                   2        0      1   \n",
       "6           6      3            0                   3        0      1   \n",
       "7           7      3            0                   3        0      1   \n",
       "8           8      3            0                   3        0      1   \n",
       "9           9      3            1                   2        0      1   \n",
       "\n",
       "                                               tweet  \n",
       "0  !!! RT @mayasolovely: As a woman you shouldn't...  \n",
       "1  !!!!! RT @mleew17: boy dats cold...tyga dwn ba...  \n",
       "2  !!!!!!! RT @UrKindOfBrand Dawg!!!! RT @80sbaby...  \n",
       "3  !!!!!!!!! RT @C_G_Anderson: @viva_based she lo...  \n",
       "4  !!!!!!!!!!!!! RT @ShenikaRoberts: The shit you...  \n",
       "5  !!!!!!!!!!!!!!!!!!\"@T_Madison_x: The shit just...  \n",
       "6  !!!!!!\"@__BrighterDays: I can not just sit up ...  \n",
       "7  !!!!&#8220;@selfiequeenbri: cause I'm tired of...  \n",
       "8  \" &amp; you might not get ya bitch back &amp; ...  \n",
       "9  \" @rhythmixx_ :hobbies include: fighting Maria...  "
      ]
     },
     "execution_count": 1,
     "metadata": {},
     "output_type": "execute_result"
    }
   ],
   "source": [
    "import torch\n",
    "import pandas as pd\n",
    "from torch.utils.data import Dataset, DataLoader\n",
    "from transformers import BertModel, BertTokenizer\n",
    "import matplotlib.pyplot as plt\n",
    "import seaborn as sns\n",
    "import warnings\n",
    "warnings.filterwarnings(\"ignore\")\n",
    "\n",
    "df = pd.read_csv(\"C:/ML/python/data/labeled_data.csv\",delimiter=',')\n",
    "\n",
    "df.head(10)"
   ]
  },
  {
   "cell_type": "code",
   "execution_count": 2,
   "id": "94b40192-ca82-4ac1-a2f7-d631c699d12c",
   "metadata": {},
   "outputs": [
    {
     "data": {
      "text/plain": [
       "Unnamed: 0            0\n",
       "count                 0\n",
       "hate_speech           0\n",
       "offensive_language    0\n",
       "neither               0\n",
       "class                 0\n",
       "tweet                 0\n",
       "dtype: int64"
      ]
     },
     "execution_count": 2,
     "metadata": {},
     "output_type": "execute_result"
    }
   ],
   "source": [
    "df.isna().sum()"
   ]
  },
  {
   "cell_type": "code",
   "execution_count": 3,
   "id": "27c40e0f-75c0-4336-b19a-e817ef9ed7d5",
   "metadata": {},
   "outputs": [],
   "source": [
    "df.drop(\"Unnamed: 0\",axis=1,inplace=True)"
   ]
  },
  {
   "cell_type": "code",
   "execution_count": 4,
   "id": "a503b114-65ae-480f-bde6-8ec2936f6a19",
   "metadata": {},
   "outputs": [
    {
     "data": {
      "image/png": "[encoded data removed]",
      "text/plain": [
       "<Figure size 640x480 with 1 Axes>"
      ]
     },
     "metadata": {},
     "output_type": "display_data"
    }
   ],
   "source": [
    "df['class'].value_counts().plot(kind='bar',rot=0)\n",
    "plt.show()"
   ]
  },
  {
   "cell_type": "code",
   "execution_count": 5,
   "id": "ac618116-dc3e-413f-b015-92c3a5930971",
   "metadata": {},
   "outputs": [],
   "source": [
    "df['class'] = df['class'].map({0:\"offensive_language\",1:\"hate_speech\",2:\"neither\"})\n",
    "df['label'] = df['class']\n",
    "df.drop(\"class\",axis=1,inplace=True)"
   ]
  },
  {
   "cell_type": "code",
   "execution_count": 6,
   "id": "b9ec82bc-d8ba-4d54-b7e6-10787a74a467",
   "metadata": {},
   "outputs": [],
   "source": [
    "pretrained_model = \"bert-base-uncased\"\n",
    "\n",
    "tokenizer = BertTokenizer.from_pretrained(pretrained_model)\n",
    "\n"
   ]
  },
  {
   "cell_type": "code",
   "execution_count": 7,
   "id": "c9309151-de01-4064-a687-bef25607713e",
   "metadata": {},
   "outputs": [
    {
     "name": "stdout",
     "output_type": "stream",
     "text": [
      "Status of request: 200\n",
      " Skip to main content Missions Search All NASA MissionsA to Z List of MissionsUpcoming Launches and LandingsSpaceships and RocketsCommunicating with MissionsArtemisJames Webb Space TelescopeHubble Space TelescopeInternational Space StationOSIRIS-RExHumans in Space Why Go to SpaceAstronautsCommercial SpaceDestinationsSpaceships and RocketsLiving in SpaceEarth &amp; Climate Explore Earth ScienceClimate ChangeEarth, Our PlanetEarth Science in ActionEarth MultimediaEarth DataEarth Science ResearchersAbout NASA NASA's ImpactsCenters and FacilitiesDirectoratesOrganizationsPeople of NASACareersInternshipsOur HistoryDoing Business with NASAGet InvolvedContactLearning Resources For Kids and StudentsFor EducatorsFor Colleges and UniversitiesFor ProfessionalsScience for EveryoneRequest an Exhibit or SpeakerSTEM Engagement at NASAAeronautics Science in the AirNASA AircraftFlight InnovationSupersonic FlightAir Traffic SolutionsGreen Aviation TechDrones & YouTechnology Technology Transfer & SpinoffsSpace Travel TechnologyTechnology Living in SpaceManufacturing and MaterialsRoboticsScience InstrumentsComputingThe Universe ExoplanetsThe Search for Life in the UniverseStarsGalaxiesBlack HolesThe Big BangDark Matter &amp; Dark EnergyThe Solar System The SunMercuryVenusEarthThe MoonMarsJupiterSaturnUranusNeptunePluto &amp; Dwarf PlanetsAsteroids, Comets &amp; MeteorsThe Kuiper BeltThe Oort CloudSkywatchingEspañol CienciaAeronáuticaCiencias TerrestresSistema SolarUniversoScience All NASA ScienceEarth SciencePlanetary ScienceAstrophysics & Space ScienceThe Sun & HeliophysicsBiological & Physical SciencesLunar ScienceCitizen ScienceAstromaterialsAeronautics ResearchHuman Space Travel ResearchExploreSearchSubmitNews & EventsMultimediaNASA+…Pluto & Dwarf...MakemakePluto and Dwarf Planets OverviewPlutoCeresHaumeaMakemakeErisAll PlanetsAbout PlanetsMercuryVenusEarthMarsJupiterSaturnUranusNeptuneSolar System HomeExplore This SectionPluto and Dwarf Planets OverviewPlutoCeresHaumeaMakemakeErisAll PlanetsSolar System HomeMakemakeMakemake FactsDwarf planet Makemake – along with Pluto, Haumea, and Eris – is located in the Kuiper Belt, a donut-shaped region of icy bodies beyond the orbit of Neptune.  Makemake is slightly smaller than Pluto, and is the second-brightest object in the Kuiper Belt as seen from Earth while Pluto is the brightest. It takes about 305 Earth years for this dwarf planet to make one trip around the Sun.Makemake holds an important place in the history of solar system studies because it was one of the objects – along with Eris – whose discovery prompted the International Astronomical Union to reconsider the definition of a planet, and to create the new group of dwarf planets.Makemake was first observed in March 2005 by M.E. Brown, C.A. Trujillo, and D.L. Rabinowitz at the Palomar Observatory, California. Its unofficial codename was Easterbunny, Brown said, \"in honor of the fact that it was discovered just a few days past Easter.\" Before this dwarf planet was confirmed, its provisional name was 2005 FY9. In 2016, NASA’s Hubble Space Telescope spotted a small, dark moon orbiting Makemake.This Hubble image reveals the first moon ever discovered around dwarf planet Makemake. The tiny satellite, located just above Makemake in this image, is barely visible because it is almost lost in the glare of the very bright dwarf planet. Hubble’s sharp-eyed WFC3 made the observation in April 2015.NASA, ESA, and A. Parker and M. Buie (SwRI)NamesakeMakemake was named after the Rapanui god of fertility.Potential for LifeThe surface of Makemake is extremely cold, so it seems unlikely that life could exist there.Size and DistanceWith a radius of approximately 444 miles (715 kilometers), Makemake is 1/9 the radius of Earth. If Earth were the size of a nickel, Makemake would be about as big as a mustard seed.From an average distance of 4,253,000,000 miles (6,847,000,000 kilometers), Makemake is 45.8 astronomical units away from the Sun. One astronomical unit (abbreviated as AU), is the distance from the Sun to Earth. From this distance, it takes sunlight 6 hours and 20 minutes to travel from the Sun to Makemake.Unable to render the provided sourceA 3D model of Makemake, a dwarf planet in the Kuiper Belt.NASA Visualization Technology Applications and Development (VTAD)Orbit and RotationMakemake takes 305 Earth years to make one trip around the Sun. As Makemake orbits the Sun, it completes one rotation every 22 and a half hours, making its day length similar to Earth and Mars.MoonsMakemake has one provisional moon, S/2015 (136472) 1, and it's nicknamed MK 2. It is more than 1,300 times fainter than Makemake. MK 2 was seen approximately 13,000 miles from the dwarf planet, and its radius is estimated to be about 50 miles (80 kilometers).RingsThere are no known rings around Makemake.FormationDwarf planet Makemake is a member of a group of objects that orbit in a disc-like zone beyond the orbit of Neptune called the Kuiper Belt. This distant realm is populated with thousands of miniature icy worlds, which formed early in the history of our solar system about 4.5 billion years ago. These icy, rocky bodies are called Kuiper Belt objects, transneptunian objects, or plutoids.StructureScientists know very little about Makemake's structure.SurfaceWe can't see too many details of Makemake's surface from so far away, but it does appear to be a reddish-brownish color, similar to Pluto. Scientists have also detected frozen methane and ethane on its surface. In fact, pellets of frozen methane as big as half an inch (1 centimeter) in diameter may rest on Makemake's cold surface.AtmosphereMakemake may develop a very thin atmosphere, most likely made of nitrogen, near perihelion – when it is closest to the Sun.MagnetosphereScientists do not know if Makemake has a magnetosphere.Keep ExploringDiscover More Topics From NASASunPlanetsAsteroids, Comets & MeteorsKuiper BeltReturn to topNational Aeronautics and Space AdministrationNASA explores the unknown in air and space, innovates for the benefit of humanity, and inspires the world through discovery.About NASA's MissionJoin UsHomeNews & EventsMultimediaNASA+MissionsHumans in SpaceEarth & ClimateThe Solar SystemThe UniverseScienceAeronauticsTechnologyLearning ResourcesAbout NASANASA en EspañolFollow NASAMore NASA Social AccountsNASA NewslettersSitemapFor MediaPrivacy PolicyFOIANo FEAR ActOffice of the IGBudget & Annual ReportsAgency Financial ReportsContact NASAAccessibilityPage Last Updated:3 months agoPage Editor:SMD Content EditorsResponsible NASA Official for Science:Dana Bolles\n"
     ]
    }
   ],
   "source": [
    "\n",
    "### Quick websrape for stupid space stuff for tokenizer\n",
    "\n",
    "import requests\n",
    "from bs4 import BeautifulSoup\n",
    "import html\n",
    "url = \"https://solarsystem.nasa.gov/planets/dwarf-planets/makemake/in-depth/\"\n",
    "r = requests.get(url)\n",
    "print(\"Status of request:\", r.status_code)\n",
    "\n",
    "\n",
    "soup = BeautifulSoup(r.text,\"html.parser\")\n",
    "results = soup.find(['div', 'p'])\n",
    "for result in results:\n",
    "    print(result.text)\n"
   ]
  },
  {
   "cell_type": "code",
   "execution_count": 8,
   "id": "f9995f62-bb39-4f80-957b-3bce907064b7",
   "metadata": {},
   "outputs": [
    {
     "name": "stdout",
     "output_type": "stream",
     "text": [
      " Skip to main content Missions Search All NASA MissionsA to Z List of MissionsUpcoming Launches and LandingsSpaceships and RocketsCommunicating with MissionsArtemisJames Webb Space TelescopeHubble Space TelescopeInternational Space StationOSIRIS-RExHumans in Space Why Go to SpaceAstronautsCommercial SpaceDestinationsSpaceships and RocketsLiving in SpaceEarth &amp; Climate Explore Earth ScienceClimate ChangeEarth, Our PlanetEarth Science in ActionEarth MultimediaEarth DataEarth Science ResearchersAbout NASA NASA's ImpactsCenters and FacilitiesDirectoratesOrganizationsPeople of NASACareersInternshipsOur HistoryDoing Business with NASAGet InvolvedContactLearning Resources For Kids and StudentsFor EducatorsFor Colleges and UniversitiesFor ProfessionalsScience for EveryoneRequest an Exhibit or SpeakerSTEM Engagement at NASAAeronautics Science in the AirNASA AircraftFlight InnovationSupersonic FlightAir Traffic SolutionsGreen Aviation TechDrones & YouTechnology Technology Transfer & SpinoffsSpace Travel TechnologyTechnology Living in SpaceManufacturing and MaterialsRoboticsScience InstrumentsComputingThe Universe ExoplanetsThe Search for Life in the UniverseStarsGalaxiesBlack HolesThe Big BangDark Matter &amp; Dark EnergyThe Solar System The SunMercuryVenusEarthThe MoonMarsJupiterSaturnUranusNeptunePluto &amp; Dwarf PlanetsAsteroids, Comets &amp; MeteorsThe Kuiper BeltThe Oort CloudSkywatchingEspañol CienciaAeronáuticaCiencias TerrestresSistema SolarUniversoScience All NASA ScienceEarth SciencePlanetary ScienceAstrophysics & Space ScienceThe Sun & HeliophysicsBiological & Physical SciencesLunar ScienceCitizen ScienceAstromaterialsAeronautics ResearchHuman Space Travel ResearchExploreSearchSubmitNews & EventsMultimediaNASA+…Pluto & Dwarf...MakemakePluto and Dwarf Planets OverviewPlutoCeresHaumeaMakemakeErisAll PlanetsAbout PlanetsMercuryVenusEarthMarsJupiterSaturnUranusNeptuneSolar System HomeExplore This SectionPluto and Dwarf Planets OverviewPlutoCeresHaumeaMakemakeErisAll PlanetsSolar System HomeMakemakeMakemake FactsDwarf planet Makemake – along with Pluto, Haumea, and Eris – is located in the Kuiper Belt, a donut-shaped region of icy bodies beyond the orbit of Neptune.  Makemake is slightly smaller than Pluto, and is the second-brightest object in the Kuiper Belt as seen from Earth while Pluto is the brightest. It takes about 305 Earth years for this dwarf planet to make one trip around the Sun.Makemake holds an important place in the history of solar system studies because it was one of the objects – along with Eris – whose discovery prompted the International Astronomical Union to reconsider the definition of a planet, and to create the new group of dwarf planets.Makemake was first observed in March 2005 by M.E. Brown, C.A. Trujillo, and D.L. Rabinowitz at the Palomar Observatory, California. Its unofficial codename was Easterbunny, Brown said, \"in honor of the fact that it was discovered just a few days past Easter.\" Before this dwarf planet was confirmed, its provisional name was 2005 FY9. In 2016, NASA’s Hubble Space Telescope spotted a small, dark moon orbiting Makemake.This Hubble image reveals the first moon ever discovered around dwarf planet Makemake. The tiny satellite, located just above Makemake in this image, is barely visible because it is almost lost in the glare of the very bright dwarf planet. Hubble’s sharp-eyed WFC3 made the observation in April 2015.NASA, ESA, and A. Parker and M. Buie (SwRI)NamesakeMakemake was named after the Rapanui god of fertility.Potential for LifeThe surface of Makemake is extremely cold, so it seems unlikely that life could exist there.Size and DistanceWith a radius of approximately 444 miles (715 kilometers), Makemake is 1/9 the radius of Earth. If Earth were the size of a nickel, Makemake would be about as big as a mustard seed.From an average distance of 4,253,000,000 miles (6,847,000,000 kilometers), Makemake is 45.8 astronomical units away from the Sun. One astronomical unit (abbreviated as AU), is the distance from the Sun to Earth. From this distance, it takes sunlight 6 hours and 20 minutes to travel from the Sun to Makemake.Unable to render the provided sourceA 3D model of Makemake, a dwarf planet in the Kuiper Belt.NASA Visualization Technology Applications and Development (VTAD)Orbit and RotationMakemake takes 305 Earth years to make one trip around the Sun. As Makemake orbits the Sun, it completes one rotation every 22 and a half hours, making its day length similar to Earth and Mars.MoonsMakemake has one provisional moon, S/2015 (136472) 1, and it's nicknamed MK 2. It is more than 1,300 times fainter than Makemake. MK 2 was seen approximately 13,000 miles from the dwarf planet, and its radius is estimated to be about 50 miles (80 kilometers).RingsThere are no known rings around Makemake.FormationDwarf planet Makemake is a member of a group of objects that orbit in a disc-like zone beyond the orbit of Neptune called the Kuiper Belt. This distant realm is populated with thousands of miniature icy worlds, which formed early in the history of our solar system about 4.5 billion years ago. These icy, rocky bodies are called Kuiper Belt objects, transneptunian objects, or plutoids.StructureScientists know very little about Makemake's structure.SurfaceWe can't see too many details of Makemake's surface from so far away, but it does appear to be a reddish-brownish color, similar to Pluto. Scientists have also detected frozen methane and ethane on its surface. In fact, pellets of frozen methane as big as half an inch (1 centimeter) in diameter may rest on Makemake's cold surface.AtmosphereMakemake may develop a very thin atmosphere, most likely made of nitrogen, near perihelion – when it is closest to the Sun.MagnetosphereScientists do not know if Makemake has a magnetosphere.Keep ExploringDiscover More Topics From NASASunPlanetsAsteroids, Comets & MeteorsKuiper BeltReturn to topNational Aeronautics and Space AdministrationNASA explores the unknown in air and space, innovates for the benefit of humanity, and inspires the world through discovery.About NASA's MissionJoin UsHomeNews & EventsMultimediaNASA+MissionsHumans in SpaceEarth & ClimateThe Solar SystemThe UniverseScienceAeronauticsTechnologyLearning ResourcesAbout NASANASA en EspañolFollow NASAMore NASA Social AccountsNASA NewslettersSitemapFor MediaPrivacy PolicyFOIANo FEAR ActOffice of the IGBudget & Annual ReportsAgency Financial ReportsContact NASAAccessibilityPage Last Updated:3 months agoPage Editor:SMD Content EditorsResponsible NASA Official for Science:Dana Bolles\n"
     ]
    }
   ],
   "source": [
    "text = [results.text for result in results]\n",
    "space_text = \" \".join(text)\n",
    "print(space_text)\n",
    "\n"
   ]
  },
  {
   "cell_type": "code",
   "execution_count": 9,
   "id": "95607365-167c-4986-881c-4e3b5c993337",
   "metadata": {},
   "outputs": [
    {
     "name": "stdout",
     "output_type": "stream",
     "text": [
      "tokens:  ['skip', 'to', 'main', 'content', 'missions', 'search', 'all', 'nasa', 'missions', '##a', 'to', 'z', 'list', 'of', 'missions', '##up', '##coming', 'launches', 'and', 'landings', '##space', '##ship', '##s', 'and', 'rockets', '##com', '##mun', '##ica', '##ting', 'with', 'missions', '##arte', '##mis', '##ja', '##mes', 'webb', 'space', 'telescope', '##hu', '##bble', 'space', 'telescope', '##int', '##ern', '##ation', '##al', 'space', 'station', '##osi', '##ris', '-', 'rex', '##hum', '##ans', 'in', 'space', 'why', 'go', 'to', 'space', '##ast', '##rona', '##uts', '##com', '##mer', '##cial', 'spaced', '##est', '##inations', '##space', '##ship', '##s', 'and', 'rockets', '##li', '##ving', 'in', 'space', '##ear', '##th', '&', 'amp', ';', 'climate', 'explore', 'earth', 'science', '##cl', '##imate', 'change', '##ear', '##th', ',', 'our', 'planet', '##ear', '##th', 'science', 'in', 'action', '##ear', '##th', 'multimedia', '##ear', '##th', 'data', '##ear', '##th', 'science', 'researchers', '##ab', '##out', 'nasa', 'nasa', \"'\", 's', 'impacts', '##cent', '##ers', 'and', 'facilities', '##di', '##re', '##ctor', '##ates', '##org', '##ani', '##zation', '##sp', '##eo', '##ple', 'of', 'nasa', '##care', '##ers', '##int', '##ern', '##ship', '##so', '##ur', 'history', '##do', '##ing', 'business', 'with', 'nasa', '##get', 'involved', '##con', '##ta', '##ct', '##lea', '##rn', '##ing', 'resources', 'for', 'kids', 'and', 'students', '##for', 'educators', '##for', 'colleges', 'and', 'universities', '##for', 'professionals', '##sc', '##ience', 'for', 'everyone', '##re', '##quest', 'an', 'exhibit', 'or', 'speakers', '##tem', 'engagement', 'at', 'nasa', '##aer', '##ona', '##uti', '##cs', 'science', 'in', 'the', 'air', '##nas', '##a', 'aircraft', '##flight', 'innovations', '##up', '##erson', '##ic', 'flight', '##air', 'traffic', 'solutions', '##gree', '##n', 'aviation', 'tech', '##dron', '##es', '&', 'you', '##tech', '##nology', 'technology', 'transfer', '&', 'spin', '##offs', '##space', 'travel', 'technology', '##tech', '##nology', 'living', 'in', 'space', '##man', '##uf', '##act', '##uring', 'and', 'materials', '##ro', '##bot', '##ics', '##sc', '##ience', 'instruments', '##com', '##put', '##ing', '##the', 'universe', 'ex', '##op', '##lane', '##ts', '##the', 'search', 'for', 'life', 'in', 'the', 'universe', '##star', '##sg', '##ala', '##xie', '##sb', '##la', '##ck', 'holes', '##the', 'big', 'bang', '##dar', '##k', 'matter', '&', 'amp', ';', 'dark', 'energy', '##the', 'solar', 'system', 'the', 'sun', '##mer', '##cu', '##ry', '##ven', '##use', '##arth', '##the', 'moon', '##mar', '##s', '##ju', '##pit', '##ers', '##at', '##urn', '##ura', '##nus', '##ne', '##pt', '##une', '##pl', '##uto', '&', 'amp', ';', 'dwarf', 'planets', '##aster', '##oids', ',', 'comets', '&', 'amp', ';', 'meteor', '##st', '##he', 'ku', '##ipe', '##r', 'belt', '##the', 'o', '##ort', 'clouds', '##ky', '##watch', '##inge', '##sp', '##ano', '##l', 'ci', '##encia', '##aer', '##ona', '##uti', '##ca', '##cie', '##ncia', '##s', 'terre', '##st', '##ress', '##iste', '##ma', 'solar', '##uni', '##vers', '##os', '##cie', '##nce', 'all', 'nasa', 'science', '##ear', '##th', 'science', '##plane', '##tary', 'science', '##ast', '##rop', '##hy', '##sic', '##s', '&', 'space', 'science', '##the', 'sun', '&', 'he', '##lio', '##physics', '##bio', '##logical', '&', 'physical', 'sciences', '##lun', '##ar', 'science', '##cit', '##ize', '##n', 'science', '##ast', '##rom', '##ater', '##ials', '##aer', '##ona', '##uti', '##cs', 'research', '##hum', '##an', 'space', 'travel', 'research', '##ex', '##pl', '##ores', '##ear', '##chs', '##ub', '##mit', '##ne', '##ws', '&', 'events', '##mu', '##lt', '##ime', '##dian', '##asa', '+', '…', 'pluto', '&', 'dwarf', '.', '.', '.', 'make', '##ma', '##ke', '##pl', '##uto', 'and', 'dwarf', 'planets', 'overview', '##pl', '##uto', '##cer', '##esh', '##au', '##me', '##ama', '##ke', '##ma', '##kee', '##ris', '##all', 'planets', '##ab', '##out', 'planets', '##mer', '##cu', '##ry', '##ven', '##use', '##arth', '##mar', '##s', '##ju', '##pit', '##ers', '##at', '##urn', '##ura', '##nus', '##ne', '##pt', '##unes', '##olar', 'system', 'home', '##ex', '##pl', '##ore', 'this', 'section', '##pl', '##uto', 'and', 'dwarf', 'planets', 'overview', '##pl', '##uto', '##cer', '##esh', '##au', '##me', '##ama', '##ke', '##ma', '##kee', '##ris', '##all', 'planets', '##sol', '##ar', 'system', 'home', '##ma', '##ke', '##ma', '##ke', '##ma', '##ke', '##ma', '##ke', 'facts', '##d', '##war', '##f', 'planet', 'make', '##ma', '##ke', '–', 'along', 'with', 'pluto', ',', 'ha', '##ume', '##a', ',', 'and', 'er', '##is', '–', 'is', 'located', 'in', 'the', 'ku', '##ipe', '##r', 'belt', ',', 'a', 'don', '##ut', '-', 'shaped', 'region', 'of', 'icy', 'bodies', 'beyond', 'the', 'orbit', 'of', 'neptune', '.', 'make', '##ma', '##ke', 'is', 'slightly', 'smaller', 'than', 'pluto', ',', 'and', 'is', 'the', 'second', '-', 'brightest', 'object', 'in', 'the', 'ku', '##ipe', '##r', 'belt', 'as', 'seen', 'from', 'earth', 'while', 'pluto', 'is', 'the', 'brightest', '.', 'it', 'takes', 'about', '305', 'earth', 'years', 'for', 'this', 'dwarf', 'planet', 'to', 'make', 'one', 'trip', 'around', 'the', 'sun', '.', 'make', '##ma', '##ke', 'holds', 'an', 'important', 'place', 'in', 'the', 'history', 'of', 'solar', 'system', 'studies', 'because', 'it', 'was', 'one', 'of', 'the', 'objects', '–', 'along', 'with', 'er', '##is', '–', 'whose', 'discovery', 'prompted', 'the', 'international', 'astronomical', 'union', 'to', 'rec', '##ons', '##ider', 'the', 'definition', 'of', 'a', 'planet', ',', 'and', 'to', 'create', 'the', 'new', 'group', 'of', 'dwarf', 'planets', '.', 'make', '##ma', '##ke', 'was', 'first', 'observed', 'in', 'march', '2005', 'by', 'm', '.', 'e', '.', 'brown', ',', 'c', '.', 'a', '.', 'tr', '##uj', '##illo', ',', 'and', 'd', '.', 'l', '.', 'ra', '##bino', '##witz', 'at', 'the', 'palo', '##mar', 'observatory', ',', 'california', '.', 'its', 'unofficial', 'code', '##name', 'was', 'easter', '##bu', '##nn', '##y', ',', 'brown', 'said', ',', '\"', 'in', 'honor', 'of', 'the', 'fact', 'that', 'it', 'was', 'discovered', 'just', 'a', 'few', 'days', 'past', 'easter', '.', '\"', 'before', 'this', 'dwarf', 'planet', 'was', 'confirmed', ',', 'its', 'provisional', 'name', 'was', '2005', 'f', '##y', '##9', '.', 'in', '2016', ',', 'nasa', '’', 's', 'hub', '##ble', 'space', 'telescope', 'spotted', 'a', 'small', ',', 'dark', 'moon', 'orbiting', 'make', '##ma', '##ke', '.', 'this', 'hub', '##ble', 'image', 'reveals', 'the', 'first', 'moon', 'ever', 'discovered', 'around', 'dwarf', 'planet', 'make', '##ma', '##ke', '.', 'the', 'tiny', 'satellite', ',', 'located', 'just', 'above', 'make', '##ma', '##ke', 'in', 'this', 'image', ',', 'is', 'barely', 'visible', 'because', 'it', 'is', 'almost', 'lost', 'in', 'the', 'glare', 'of', 'the', 'very', 'bright', 'dwarf', 'planet', '.', 'hub', '##ble', '’', 's', 'sharp', '-', 'eyed', 'w', '##fc', '##3', 'made', 'the', 'observation', 'in', 'april', '2015', '.', 'nasa', ',', 'esa', ',', 'and', 'a', '.', 'parker', 'and', 'm', '.', 'bu', '##ie', '(', 'sw', '##ri', ')', 'namesake', '##ma', '##ke', '##ma', '##ke', 'was', 'named', 'after', 'the', 'rap', '##anu', '##i', 'god', 'of', 'fertility', '.', 'potential', 'for', 'life', '##the', 'surface', 'of', 'make', '##ma', '##ke', 'is', 'extremely', 'cold', ',', 'so', 'it', 'seems', 'unlikely', 'that', 'life', 'could', 'exist', 'there', '.', 'size', 'and', 'distance', '##with', 'a', 'radius', 'of', 'approximately', '44', '##4', 'miles', '(', '71', '##5', 'kilometers', ')', ',', 'make', '##ma', '##ke', 'is', '1', '/', '9', 'the', 'radius', 'of', 'earth', '.', 'if', 'earth', 'were', 'the', 'size', 'of', 'a', 'nickel', ',', 'make', '##ma', '##ke', 'would', 'be', 'about', 'as', 'big', 'as', 'a', 'mustard', 'seed', '.', 'from', 'an', 'average', 'distance', 'of', '4', ',', '253', ',', '000', ',', '000', 'miles', '(', '6', ',', '84', '##7', ',', '000', ',', '000', 'kilometers', ')', ',', 'make', '##ma', '##ke', 'is', '45', '.', '8', 'astronomical', 'units', 'away', 'from', 'the', 'sun', '.', 'one', 'astronomical', 'unit', '(', 'abbreviated', 'as', 'au', ')', ',', 'is', 'the', 'distance', 'from', 'the', 'sun', 'to', 'earth', '.', 'from', 'this', 'distance', ',', 'it', 'takes', 'sunlight', '6', 'hours', 'and', '20', 'minutes', 'to', 'travel', 'from', 'the', 'sun', 'to', 'make', '##ma', '##ke', '.', 'unable', 'to', 'render', 'the', 'provided', 'source', '##a', '3d', 'model', 'of', 'make', '##ma', '##ke', ',', 'a', 'dwarf', 'planet', 'in', 'the', 'ku', '##ipe', '##r', 'belt', '.', 'nasa', 'visual', '##ization', 'technology', 'applications', 'and', 'development', '(', 'vt', '##ad', ')', 'orbit', 'and', 'rotation', '##ma', '##ke', '##ma', '##ke', 'takes', '305', 'earth', 'years', 'to', 'make', 'one', 'trip', 'around', 'the', 'sun', '.', 'as', 'make', '##ma', '##ke', 'orbits', 'the', 'sun', ',', 'it', 'completes', 'one', 'rotation', 'every', '22', 'and', 'a', 'half', 'hours', ',', 'making', 'its', 'day', 'length', 'similar', 'to', 'earth', 'and', 'mars', '.', 'moons', '##ma', '##ke', '##ma', '##ke', 'has', 'one', 'provisional', 'moon', ',', 's', '/', '2015', '(', '136', '##47', '##2', ')', '1', ',', 'and', 'it', \"'\", 's', 'nicknamed', 'mk', '2', '.', 'it', 'is', 'more', 'than', '1', ',', '300', 'times', 'faint', '##er', 'than', 'make', '##ma', '##ke', '.', 'mk', '2', 'was', 'seen', 'approximately', '13', ',', '000', 'miles', 'from', 'the', 'dwarf', 'planet', ',', 'and', 'its', 'radius', 'is', 'estimated', 'to', 'be', 'about', '50', 'miles', '(', '80', 'kilometers', ')', '.', 'rings', '##ther', '##e', 'are', 'no', 'known', 'rings', 'around', 'make', '##ma', '##ke', '.', 'formation', '##d', '##war', '##f', 'planet', 'make', '##ma', '##ke', 'is', 'a', 'member', 'of', 'a', 'group', 'of', 'objects', 'that', 'orbit', 'in', 'a', 'disc', '-', 'like', 'zone', 'beyond', 'the', 'orbit', 'of', 'neptune', 'called', 'the', 'ku', '##ipe', '##r', 'belt', '.', 'this', 'distant', 'realm', 'is', 'populated', 'with', 'thousands', 'of', 'miniature', 'icy', 'worlds', ',', 'which', 'formed', 'early', 'in', 'the', 'history', 'of', 'our', 'solar', 'system', 'about', '4', '.', '5', 'billion', 'years', 'ago', '.', 'these', 'icy', ',', 'rocky', 'bodies', 'are', 'called', 'ku', '##ipe', '##r', 'belt', 'objects', ',', 'trans', '##ne', '##pt', '##uni', '##an', 'objects', ',', 'or', 'pluto', '##ids', '.', 'structures', '##cie', '##nti', '##sts', 'know', 'very', 'little', 'about', 'make', '##ma', '##ke', \"'\", 's', 'structure', '.', 'surface', '##we', 'can', \"'\", 't', 'see', 'too', 'many', 'details', 'of', 'make', '##ma', '##ke', \"'\", 's', 'surface', 'from', 'so', 'far', 'away', ',', 'but', 'it', 'does', 'appear', 'to', 'be', 'a', 'reddish', '-', 'brownish', 'color', ',', 'similar', 'to', 'pluto', '.', 'scientists', 'have', 'also', 'detected', 'frozen', 'methane', 'and', 'ethan', '##e', 'on', 'its', 'surface', '.', 'in', 'fact', ',', 'pe', '##llet', '##s', 'of', 'frozen', 'methane', 'as', 'big', 'as', 'half', 'an', 'inch', '(', '1', 'cent', '##imeter', ')', 'in', 'diameter', 'may', 'rest', 'on', 'make', '##ma', '##ke', \"'\", 's', 'cold', 'surface', '.', 'atmosphere', '##ma', '##ke', '##ma', '##ke', 'may', 'develop', 'a', 'very', 'thin', 'atmosphere', ',', 'most', 'likely', 'made', 'of', 'nitrogen', ',', 'near', 'per', '##ih', '##eli', '##on', '–', 'when', 'it', 'is', 'closest', 'to', 'the', 'sun', '.', 'magnet', '##osphere', '##sc', '##ient', '##ists', 'do', 'not', 'know', 'if', 'make', '##ma', '##ke', 'has', 'a', 'magnet', '##osphere', '.', 'keep', 'exploring', '##dis', '##co', '##ver', 'more', 'topics', 'from', 'nasa', '##sun', '##plane', '##tsa', '##ster', '##oids', ',', 'comets', '&', 'meteor', '##sk', '##ui', '##per', 'belt', '##ret', '##urn', 'to', 'top', '##national', 'aeronautics', 'and', 'space', 'administration', '##nas', '##a', 'explores', 'the', 'unknown', 'in', 'air', 'and', 'space', ',', 'inn', '##ova', '##tes', 'for', 'the', 'benefit', 'of', 'humanity', ',', 'and', 'inspire', '##s', 'the', 'world', 'through', 'discovery', '.', 'about', 'nasa', \"'\", 's', 'mission', '##jo', '##in', 'us', '##hom', '##ene', '##ws', '&', 'events', '##mu', '##lt', '##ime', '##dian', '##asa', '+', 'missions', '##hum', '##ans', 'in', 'space', '##ear', '##th', '&', 'climate', '##the', 'solar', 'system', '##the', 'universe', '##sc', '##ience', '##aer', '##ona', '##uti', '##cs', '##tech', '##nology', '##lea', '##rn', '##ing', 'resources', '##ab', '##out', 'nasa', '##nas', '##a', 'en', 'es', '##pan', '##olf', '##oll', '##ow', 'nasa', '##more', 'nasa', 'social', 'accounts', '##nas', '##a', 'newsletter', '##ssi', '##tem', '##ap', '##for', 'media', '##pr', '##iva', '##cy', 'policy', '##fo', '##iano', 'fear', 'act', '##off', '##ice', 'of', 'the', 'i', '##gb', '##udge', '##t', '&', 'annual', 'reports', '##age', '##ncy', 'financial', 'reports', '##con', '##ta', '##ct', 'nasa', '##ac', '##ces', '##sibility', '##page', 'last', 'updated', ':', '3', 'months', 'ago', '##page', 'editor', ':', 'sm', '##d', 'content', 'editors', '##res', '##pon', '##sible', 'nasa', 'official', 'for', 'science', ':', 'dana', 'bo', '##lles']\n",
      "token ids [13558, 2000, 2364, 4180, 6416, 3945, 2035, 9274, 6416, 2050, 2000, 1062, 2862, 1997, 6416, 6279, 18935, 18989, 1998, 16805, 23058, 9650, 2015, 1998, 12496, 9006, 23041, 5555, 3436, 2007, 6416, 24847, 15630, 3900, 7834, 10923, 2686, 12772, 6979, 11362, 2686, 12772, 18447, 11795, 3370, 2389, 2686, 2276, 20049, 6935, 1011, 10151, 28600, 6962, 1999, 2686, 2339, 2175, 2000, 2686, 14083, 26788, 16446, 9006, 5017, 13247, 19835, 4355, 22045, 23058, 9650, 2015, 1998, 12496, 3669, 6455, 1999, 2686, 14644, 2705, 1004, 23713, 1025, 4785, 8849, 3011, 2671, 20464, 21499, 2689, 14644, 2705, 1010, 2256, 4774, 14644, 2705, 2671, 1999, 2895, 14644, 2705, 14959, 14644, 2705, 2951, 14644, 2705, 2671, 6950, 7875, 5833, 9274, 9274, 1005, 1055, 14670, 13013, 2545, 1998, 4128, 4305, 2890, 16761, 8520, 21759, 7088, 9276, 13102, 8780, 10814, 1997, 9274, 16302, 2545, 18447, 11795, 9650, 6499, 3126, 2381, 3527, 2075, 2449, 2007, 9274, 18150, 2920, 8663, 2696, 6593, 19738, 6826, 2075, 4219, 2005, 4268, 1998, 2493, 29278, 19156, 29278, 6667, 1998, 5534, 29278, 8390, 11020, 13684, 2005, 3071, 2890, 15500, 2019, 8327, 2030, 7492, 18532, 8147, 2012, 9274, 27867, 7856, 21823, 6169, 2671, 1999, 1996, 2250, 11649, 2050, 2948, 28968, 15463, 6279, 18617, 2594, 3462, 11215, 4026, 7300, 28637, 2078, 5734, 6627, 19440, 2229, 1004, 2017, 15007, 21020, 2974, 4651, 1004, 6714, 27475, 23058, 3604, 2974, 15007, 21020, 2542, 1999, 2686, 2386, 16093, 18908, 12228, 1998, 4475, 3217, 18384, 6558, 11020, 13684, 5693, 9006, 18780, 2075, 10760, 5304, 4654, 7361, 20644, 3215, 10760, 3945, 2005, 2166, 1999, 1996, 5304, 14117, 28745, 7911, 16898, 19022, 2721, 3600, 8198, 10760, 2502, 9748, 7662, 2243, 3043, 1004, 23713, 1025, 2601, 2943, 10760, 5943, 2291, 1996, 3103, 5017, 10841, 2854, 8159, 8557, 22425, 10760, 4231, 7849, 2015, 9103, 23270, 2545, 4017, 14287, 4648, 10182, 2638, 13876, 9816, 24759, 16161, 1004, 23713, 1025, 11229, 11358, 24268, 17086, 1010, 27138, 1004, 23713, 1025, 23879, 3367, 5369, 13970, 15457, 2099, 5583, 10760, 1051, 11589, 8044, 4801, 18866, 23496, 13102, 6761, 2140, 25022, 27742, 27867, 7856, 21823, 3540, 23402, 22750, 2015, 25170, 3367, 8303, 27870, 2863, 5943, 19496, 14028, 2891, 23402, 5897, 2035, 9274, 2671, 14644, 2705, 2671, 11751, 18219, 2671, 14083, 18981, 10536, 19570, 2015, 1004, 2686, 2671, 10760, 3103, 1004, 2002, 12798, 15638, 26282, 9966, 1004, 3558, 4163, 26896, 2906, 2671, 26243, 4697, 2078, 2671, 14083, 21716, 24932, 26340, 27867, 7856, 21823, 6169, 2470, 28600, 2319, 2686, 3604, 2470, 10288, 24759, 16610, 14644, 18069, 12083, 22930, 2638, 9333, 1004, 2824, 12274, 7096, 14428, 11692, 16782, 1009, 1529, 26930, 1004, 11229, 1012, 1012, 1012, 2191, 2863, 3489, 24759, 16161, 1998, 11229, 11358, 19184, 24759, 16161, 17119, 9953, 4887, 4168, 8067, 3489, 2863, 20553, 6935, 8095, 11358, 7875, 5833, 11358, 5017, 10841, 2854, 8159, 8557, 22425, 7849, 2015, 9103, 23270, 2545, 4017, 14287, 4648, 10182, 2638, 13876, 26639, 19478, 2291, 2188, 10288, 24759, 5686, 2023, 2930, 24759, 16161, 1998, 11229, 11358, 19184, 24759, 16161, 17119, 9953, 4887, 4168, 8067, 3489, 2863, 20553, 6935, 8095, 11358, 19454, 2906, 2291, 2188, 2863, 3489, 2863, 3489, 2863, 3489, 2863, 3489, 8866, 2094, 9028, 2546, 4774, 2191, 2863, 3489, 1516, 2247, 2007, 26930, 1010, 5292, 17897, 2050, 1010, 1998, 9413, 2483, 1516, 2003, 2284, 1999, 1996, 13970, 15457, 2099, 5583, 1010, 1037, 2123, 4904, 1011, 5044, 2555, 1997, 13580, 4230, 3458, 1996, 8753, 1997, 21167, 1012, 2191, 2863, 3489, 2003, 3621, 3760, 2084, 26930, 1010, 1998, 2003, 1996, 2117, 1011, 26849, 4874, 1999, 1996, 13970, 15457, 2099, 5583, 2004, 2464, 2013, 3011, 2096, 26930, 2003, 1996, 26849, 1012, 2009, 3138, 2055, 20405, 3011, 2086, 2005, 2023, 11229, 4774, 2000, 2191, 2028, 4440, 2105, 1996, 3103, 1012, 2191, 2863, 3489, 4324, 2019, 2590, 2173, 1999, 1996, 2381, 1997, 5943, 2291, 2913, 2138, 2009, 2001, 2028, 1997, 1996, 5200, 1516, 2247, 2007, 9413, 2483, 1516, 3005, 5456, 9469, 1996, 2248, 13674, 2586, 2000, 28667, 5644, 18688, 1996, 6210, 1997, 1037, 4774, 1010, 1998, 2000, 3443, 1996, 2047, 2177, 1997, 11229, 11358, 1012, 2191, 2863, 3489, 2001, 2034, 5159, 1999, 2233, 2384, 2011, 1049, 1012, 1041, 1012, 2829, 1010, 1039, 1012, 1037, 1012, 19817, 23049, 10486, 1010, 1998, 1040, 1012, 1048, 1012, 10958, 21891, 15362, 2012, 1996, 24326, 7849, 9970, 1010, 2662, 1012, 2049, 11982, 3642, 18442, 2001, 10957, 8569, 10695, 2100, 1010, 2829, 2056, 1010, 1000, 1999, 3932, 1997, 1996, 2755, 2008, 2009, 2001, 3603, 2074, 1037, 2261, 2420, 2627, 10957, 1012, 1000, 2077, 2023, 11229, 4774, 2001, 4484, 1010, 2049, 10864, 2171, 2001, 2384, 1042, 2100, 2683, 1012, 1999, 2355, 1010, 9274, 1521, 1055, 9594, 3468, 2686, 12772, 7282, 1037, 2235, 1010, 2601, 4231, 26472, 2191, 2863, 3489, 1012, 2023, 9594, 3468, 3746, 7657, 1996, 2034, 4231, 2412, 3603, 2105, 11229, 4774, 2191, 2863, 3489, 1012, 1996, 4714, 5871, 1010, 2284, 2074, 2682, 2191, 2863, 3489, 1999, 2023, 3746, 1010, 2003, 4510, 5710, 2138, 2009, 2003, 2471, 2439, 1999, 1996, 10982, 1997, 1996, 2200, 4408, 11229, 4774, 1012, 9594, 3468, 1521, 1055, 4629, 1011, 7168, 1059, 11329, 2509, 2081, 1996, 8089, 1999, 2258, 2325, 1012, 9274, 1010, 28776, 1010, 1998, 1037, 1012, 6262, 1998, 1049, 1012, 20934, 2666, 1006, 25430, 3089, 1007, 17283, 2863, 3489, 2863, 3489, 2001, 2315, 2044, 1996, 9680, 24076, 2072, 2643, 1997, 17376, 1012, 4022, 2005, 2166, 10760, 3302, 1997, 2191, 2863, 3489, 2003, 5186, 3147, 1010, 2061, 2009, 3849, 9832, 2008, 2166, 2071, 4839, 2045, 1012, 2946, 1998, 3292, 24415, 1037, 12177, 1997, 3155, 4008, 2549, 2661, 1006, 6390, 2629, 7338, 1007, 1010, 2191, 2863, 3489, 2003, 1015, 1013, 1023, 1996, 12177, 1997, 3011, 1012, 2065, 3011, 2020, 1996, 2946, 1997, 1037, 15519, 1010, 2191, 2863, 3489, 2052, 2022, 2055, 2004, 2502, 2004, 1037, 23187, 6534, 1012, 2013, 2019, 2779, 3292, 1997, 1018, 1010, 23254, 1010, 2199, 1010, 2199, 2661, 1006, 1020, 1010, 6391, 2581, 1010, 2199, 1010, 2199, 7338, 1007, 1010, 2191, 2863, 3489, 2003, 3429, 1012, 1022, 13674, 3197, 2185, 2013, 1996, 3103, 1012, 2028, 13674, 3131, 1006, 12066, 2004, 8740, 1007, 1010, 2003, 1996, 3292, 2013, 1996, 3103, 2000, 3011, 1012, 2013, 2023, 3292, 1010, 2009, 3138, 9325, 1020, 2847, 1998, 2322, 2781, 2000, 3604, 2013, 1996, 3103, 2000, 2191, 2863, 3489, 1012, 4039, 2000, 17552, 1996, 3024, 3120, 2050, 7605, 2944, 1997, 2191, 2863, 3489, 1010, 1037, 11229, 4774, 1999, 1996, 13970, 15457, 2099, 5583, 1012, 9274, 5107, 3989, 2974, 5097, 1998, 2458, 1006, 28879, 4215, 1007, 8753, 1998, 9963, 2863, 3489, 2863, 3489, 3138, 20405, 3011, 2086, 2000, 2191, 2028, 4440, 2105, 1996, 3103, 1012, 2004, 2191, 2863, 3489, 20347, 1996, 3103, 1010, 2009, 28123, 2028, 9963, 2296, 2570, 1998, 1037, 2431, 2847, 1010, 2437, 2049, 2154, 3091, 2714, 2000, 3011, 1998, 7733, 1012, 23377, 2863, 3489, 2863, 3489, 2038, 2028, 10864, 4231, 1010, 1055, 1013, 2325, 1006, 15407, 22610, 2475, 1007, 1015, 1010, 1998, 2009, 1005, 1055, 9919, 12395, 1016, 1012, 2009, 2003, 2062, 2084, 1015, 1010, 3998, 2335, 8143, 2121, 2084, 2191, 2863, 3489, 1012, 12395, 1016, 2001, 2464, 3155, 2410, 1010, 2199, 2661, 2013, 1996, 11229, 4774, 1010, 1998, 2049, 12177, 2003, 4358, 2000, 2022, 2055, 2753, 2661, 1006, 3770, 7338, 1007, 1012, 7635, 12399, 2063, 2024, 2053, 2124, 7635, 2105, 2191, 2863, 3489, 1012, 4195, 2094, 9028, 2546, 4774, 2191, 2863, 3489, 2003, 1037, 2266, 1997, 1037, 2177, 1997, 5200, 2008, 8753, 1999, 1037, 5860, 1011, 2066, 4224, 3458, 1996, 8753, 1997, 21167, 2170, 1996, 13970, 15457, 2099, 5583, 1012, 2023, 6802, 8391, 2003, 10357, 2007, 5190, 1997, 12973, 13580, 8484, 1010, 2029, 2719, 2220, 1999, 1996, 2381, 1997, 2256, 5943, 2291, 2055, 1018, 1012, 1019, 4551, 2086, 3283, 1012, 2122, 13580, 1010, 6857, 4230, 2024, 2170, 13970, 15457, 2099, 5583, 5200, 1010, 9099, 2638, 13876, 19496, 2319, 5200, 1010, 2030, 26930, 9821, 1012, 5090, 23402, 16778, 12837, 2113, 2200, 2210, 2055, 2191, 2863, 3489, 1005, 1055, 3252, 1012, 3302, 8545, 2064, 1005, 1056, 2156, 2205, 2116, 4751, 1997, 2191, 2863, 3489, 1005, 1055, 3302, 2013, 2061, 2521, 2185, 1010, 2021, 2009, 2515, 3711, 2000, 2022, 1037, 14182, 1011, 19437, 3609, 1010, 2714, 2000, 26930, 1012, 6529, 2031, 2036, 11156, 7708, 24481, 1998, 6066, 2063, 2006, 2049, 3302, 1012, 1999, 2755, 1010, 21877, 22592, 2015, 1997, 7708, 24481, 2004, 2502, 2004, 2431, 2019, 4960, 1006, 1015, 9358, 19198, 1007, 1999, 6705, 2089, 2717, 2006, 2191, 2863, 3489, 1005, 1055, 3147, 3302, 1012, 7224, 2863, 3489, 2863, 3489, 2089, 4503, 1037, 2200, 4857, 7224, 1010, 2087, 3497, 2081, 1997, 14114, 1010, 2379, 2566, 19190, 20806, 2239, 1516, 2043, 2009, 2003, 7541, 2000, 1996, 3103, 1012, 16853, 25444, 11020, 11638, 5130, 2079, 2025, 2113, 2065, 2191, 2863, 3489, 2038, 1037, 16853, 25444, 1012, 2562, 11131, 10521, 3597, 6299, 2062, 7832, 2013, 9274, 19729, 11751, 27110, 6238, 17086, 1010, 27138, 1004, 23879, 6711, 10179, 4842, 5583, 13465, 14287, 2000, 2327, 25434, 27459, 1998, 2686, 3447, 11649, 2050, 15102, 1996, 4242, 1999, 2250, 1998, 2686, 1010, 7601, 7103, 4570, 2005, 1996, 5770, 1997, 8438, 1010, 1998, 18708, 2015, 1996, 2088, 2083, 5456, 1012, 2055, 9274, 1005, 1055, 3260, 5558, 2378, 2149, 23393, 8625, 9333, 1004, 2824, 12274, 7096, 14428, 11692, 16782, 1009, 6416, 28600, 6962, 1999, 2686, 14644, 2705, 1004, 4785, 10760, 5943, 2291, 10760, 5304, 11020, 13684, 27867, 7856, 21823, 6169, 15007, 21020, 19738, 6826, 2075, 4219, 7875, 5833, 9274, 11649, 2050, 4372, 9686, 9739, 28027, 14511, 5004, 9274, 5974, 9274, 2591, 6115, 11649, 2050, 17178, 18719, 18532, 9331, 29278, 2865, 18098, 11444, 5666, 3343, 14876, 15668, 3571, 2552, 7245, 6610, 1997, 1996, 1045, 18259, 15979, 2102, 1004, 3296, 4311, 4270, 9407, 3361, 4311, 8663, 2696, 6593, 9274, 6305, 9623, 28255, 13704, 2197, 7172, 1024, 1017, 2706, 3283, 13704, 3559, 1024, 15488, 2094, 4180, 10195, 6072, 26029, 19307, 9274, 2880, 2005, 2671, 1024, 11271, 8945, 20434]\n"
     ]
    }
   ],
   "source": [
    "tokens = tokenizer.tokenize(space_text)\n",
    "token_ids = tokenizer.convert_tokens_to_ids(tokens)\n",
    "print(\"tokens: \",tokens)\n",
    "print(\"token ids\",token_ids)"
   ]
  },
  {
   "cell_type": "code",
   "execution_count": 10,
   "id": "273b35d8-5a18-4bbf-bab6-e069a6fc90f3",
   "metadata": {},
   "outputs": [
    {
     "data": {
      "text/plain": [
       "('[SEP]', 102)"
      ]
     },
     "execution_count": 10,
     "metadata": {},
     "output_type": "execute_result"
    }
   ],
   "source": [
    "tokenizer.sep_token, tokenizer.sep_token_id"
   ]
  },
  {
   "cell_type": "code",
   "execution_count": 11,
   "id": "367c938f-26fd-47dd-92d0-cd48cfa96bee",
   "metadata": {},
   "outputs": [
    {
     "data": {
      "text/plain": [
       "('[CLS]', 101)"
      ]
     },
     "execution_count": 11,
     "metadata": {},
     "output_type": "execute_result"
    }
   ],
   "source": [
    "tokenizer.cls_token, tokenizer.cls_token_id"
   ]
  },
  {
   "cell_type": "code",
   "execution_count": 12,
   "id": "72327b8a-eb23-404b-bdab-cf3a7b6ebdf9",
   "metadata": {},
   "outputs": [
    {
     "data": {
      "text/plain": [
       "('[PAD]', 0)"
      ]
     },
     "execution_count": 12,
     "metadata": {},
     "output_type": "execute_result"
    }
   ],
   "source": [
    "tokenizer.pad_token, tokenizer.pad_token_id"
   ]
  },
  {
   "cell_type": "code",
   "execution_count": 13,
   "id": "f856c89c-49f7-4c37-80eb-96329c3062b4",
   "metadata": {},
   "outputs": [
    {
     "name": "stderr",
     "output_type": "stream",
     "text": [
      "Truncation was not explicitly activated but `max_length` is provided a specific value, please use `truncation=True` to explicitly truncate examples to max length. Defaulting to 'longest_first' truncation strategy. If you encode pairs of sequences (GLUE-style) with the tokenizer you can select this strategy more precisely by providing a specific strategy to `truncation`.\n"
     ]
    },
    {
     "data": {
      "text/plain": [
       "dict_keys(['input_ids', 'attention_mask'])"
      ]
     },
     "execution_count": 13,
     "metadata": {},
     "output_type": "execute_result"
    }
   ],
   "source": [
    "encoding = tokenizer.encode_plus(\n",
    "  space_text,\n",
    "  max_length=32,\n",
    "  add_special_tokens=True,\n",
    "  return_token_type_ids=False,\n",
    "  pad_to_max_length=True,\n",
    "  return_attention_mask=True,\n",
    "  return_tensors='pt',\n",
    ")\n",
    "\n",
    "encoding.keys()\n"
   ]
  },
  {
   "cell_type": "code",
   "execution_count": 14,
   "id": "5c77150c-8571-4e09-98e5-8c912b04b656",
   "metadata": {},
   "outputs": [
    {
     "name": "stdout",
     "output_type": "stream",
     "text": [
      "32\n"
     ]
    },
    {
     "data": {
      "text/plain": [
       "tensor([  101, 13558,  2000,  2364,  4180,  6416,  3945,  2035,  9274,  6416,\n",
       "         2050,  2000,  1062,  2862,  1997,  6416,  6279, 18935, 18989,  1998,\n",
       "        16805, 23058,  9650,  2015,  1998, 12496,  9006, 23041,  5555,  3436,\n",
       "         2007,   102])"
      ]
     },
     "execution_count": 14,
     "metadata": {},
     "output_type": "execute_result"
    }
   ],
   "source": [
    "print(len(encoding['input_ids'][0]))\n",
    "encoding['input_ids'][0]"
   ]
  },
  {
   "cell_type": "code",
   "execution_count": 15,
   "id": "85f36bb7-5cf5-4418-932f-655262addb6b",
   "metadata": {},
   "outputs": [
    {
     "name": "stdout",
     "output_type": "stream",
     "text": [
      "32\n"
     ]
    },
    {
     "data": {
      "text/plain": [
       "tensor([[1, 1, 1, 1, 1, 1, 1, 1, 1, 1, 1, 1, 1, 1, 1, 1, 1, 1, 1, 1, 1, 1, 1, 1,\n",
       "         1, 1, 1, 1, 1, 1, 1, 1]])"
      ]
     },
     "execution_count": 15,
     "metadata": {},
     "output_type": "execute_result"
    }
   ],
   "source": [
    "print(len(encoding['attention_mask'][0]))\n",
    "encoding['attention_mask']"
   ]
  },
  {
   "cell_type": "code",
   "execution_count": 16,
   "id": "000cf710-343f-4260-a428-fcc774d894da",
   "metadata": {},
   "outputs": [],
   "source": [
    "\n",
    "token_lens = []\n",
    "\n",
    "for txt in df.tweet:\n",
    "  tokens = tokenizer.encode(txt, max_length=512)\n",
    "  token_lens.append(len(tokens))"
   ]
  },
  {
   "cell_type": "code",
   "execution_count": 17,
   "id": "fc56eef8-fd8e-4085-88de-b61eeed31af3",
   "metadata": {},
   "outputs": [
    {
     "data": {
      "image/png": "[encoded data removed]",
      "text/plain": [
       "<Figure size 640x480 with 1 Axes>"
      ]
     },
     "metadata": {},
     "output_type": "display_data"
    }
   ],
   "source": [
    "sns.distplot(token_lens)\n",
    "plt.xlim([0, 256]);\n",
    "plt.xlabel('Token count');"
   ]
  },
  {
   "cell_type": "code",
   "execution_count": 18,
   "id": "2fc3bd2c-c2c3-4ba7-b0d5-d4e762980140",
   "metadata": {},
   "outputs": [],
   "source": [
    "\n",
    "MAX_LEN = 120\n",
    "\n",
    "class tweet_dataset:\n",
    "    def __init__(self,tweet,targets,tokenizer,max_len):\n",
    "        self.tweets = tweet\n",
    "        self.targets = targets\n",
    "        self.tokenizer = tokenizer\n",
    "        self.max_len = max_len\n",
    "\n",
    "    def __self__(self):\n",
    "        return(self.tweet)\n",
    "\n",
    "\n",
    "    def __getitem__(self,item):\n",
    "        tweet = str(self.tweet[item])\n",
    "        target = self.targets[item]\n",
    "        \n",
    "        encoding = self.tokenizer.encode_plus(\n",
    "          tweet,\n",
    "          add_special_tokens=True,\n",
    "          max_length=self.max_len,\n",
    "          return_token_type_ids=False,\n",
    "          pad_to_max_length=True,\n",
    "          return_attention_mask=True,\n",
    "          return_tensors='pt',\n",
    "    )\n",
    "        return {\n",
    "          'tweet_text': tweets,\n",
    "          'input_ids': encoding['input_ids'].flatten(),\n",
    "          'attention_mask': encoding['attention_mask'].flatten(),\n",
    "          'targets': torch.tensor(target, dtype=torch.long)\n",
    "    }\n",
    "\n",
    "\n"
   ]
  },
  {
   "cell_type": "code",
   "execution_count": 19,
   "id": "863fcea5-4c71-41bb-bc07-e9fce85c2d74",
   "metadata": {},
   "outputs": [],
   "source": [
    "\n",
    "from sklearn.model_selection import train_test_split\n",
    "\n",
    "df_train, df_test = train_test_split(df, test_size=0.1, random_state=42)\n",
    "df_val, df_test = train_test_split(df_test, test_size=0.5, random_state=42)"
   ]
  },
  {
   "cell_type": "code",
   "execution_count": 20,
   "id": "2f9cf0d1-f002-4a7c-af79-93737fa5599e",
   "metadata": {},
   "outputs": [
    {
     "data": {
      "text/html": [
       "<div>\n",
       "<style scoped>\n",
       "    .dataframe tbody tr th:only-of-type {\n",
       "        vertical-align: middle;\n",
       "    }\n",
       "\n",
       "    .dataframe tbody tr th {\n",
       "        vertical-align: top;\n",
       "    }\n",
       "\n",
       "    .dataframe thead th {\n",
       "        text-align: right;\n",
       "    }\n",
       "</style>\n",
       "<table border=\"1\" class=\"dataframe\">\n",
       "  <thead>\n",
       "    <tr style=\"text-align: right;\">\n",
       "      <th></th>\n",
       "      <th>count</th>\n",
       "      <th>hate_speech</th>\n",
       "      <th>offensive_language</th>\n",
       "      <th>neither</th>\n",
       "      <th>tweet</th>\n",
       "      <th>label</th>\n",
       "    </tr>\n",
       "  </thead>\n",
       "  <tbody>\n",
       "    <tr>\n",
       "      <th>8057</th>\n",
       "      <td>3</td>\n",
       "      <td>0</td>\n",
       "      <td>3</td>\n",
       "      <td>0</td>\n",
       "      <td>Bitches ah have a baby &amp;amp; be like \"don't cl...</td>\n",
       "      <td>hate_speech</td>\n",
       "    </tr>\n",
       "    <tr>\n",
       "      <th>313</th>\n",
       "      <td>3</td>\n",
       "      <td>0</td>\n",
       "      <td>0</td>\n",
       "      <td>3</td>\n",
       "      <td>\"@ayyee_ceee_: One mans trash &amp;#128686; is ano...</td>\n",
       "      <td>neither</td>\n",
       "    </tr>\n",
       "    <tr>\n",
       "      <th>15568</th>\n",
       "      <td>3</td>\n",
       "      <td>0</td>\n",
       "      <td>3</td>\n",
       "      <td>0</td>\n",
       "      <td>RT @IKeepitRealer: ChrisBrown a bitch 4 hittin...</td>\n",
       "      <td>hate_speech</td>\n",
       "    </tr>\n",
       "    <tr>\n",
       "      <th>13789</th>\n",
       "      <td>3</td>\n",
       "      <td>0</td>\n",
       "      <td>3</td>\n",
       "      <td>0</td>\n",
       "      <td>People comment on my fb statuses like \"How was...</td>\n",
       "      <td>hate_speech</td>\n",
       "    </tr>\n",
       "    <tr>\n",
       "      <th>17837</th>\n",
       "      <td>6</td>\n",
       "      <td>0</td>\n",
       "      <td>6</td>\n",
       "      <td>0</td>\n",
       "      <td>RT @TreLeKidd: Yo bitch is Gucci Mane RT @Jaba...</td>\n",
       "      <td>hate_speech</td>\n",
       "    </tr>\n",
       "    <tr>\n",
       "      <th>...</th>\n",
       "      <td>...</td>\n",
       "      <td>...</td>\n",
       "      <td>...</td>\n",
       "      <td>...</td>\n",
       "      <td>...</td>\n",
       "      <td>...</td>\n",
       "    </tr>\n",
       "    <tr>\n",
       "      <th>21575</th>\n",
       "      <td>3</td>\n",
       "      <td>0</td>\n",
       "      <td>0</td>\n",
       "      <td>3</td>\n",
       "      <td>The last at-bat at Yankee Stadium. Thanks for ...</td>\n",
       "      <td>neither</td>\n",
       "    </tr>\n",
       "    <tr>\n",
       "      <th>5390</th>\n",
       "      <td>3</td>\n",
       "      <td>0</td>\n",
       "      <td>3</td>\n",
       "      <td>0</td>\n",
       "      <td>@_bradleey LMFAOOOO yooo I lost my elevator pa...</td>\n",
       "      <td>hate_speech</td>\n",
       "    </tr>\n",
       "    <tr>\n",
       "      <th>860</th>\n",
       "      <td>3</td>\n",
       "      <td>1</td>\n",
       "      <td>2</td>\n",
       "      <td>0</td>\n",
       "      <td>#porn,#android,#iphone,#ipad,#sex,#xxx, | #Ana...</td>\n",
       "      <td>hate_speech</td>\n",
       "    </tr>\n",
       "    <tr>\n",
       "      <th>15795</th>\n",
       "      <td>3</td>\n",
       "      <td>0</td>\n",
       "      <td>3</td>\n",
       "      <td>0</td>\n",
       "      <td>RT @JennyJohnsonHi5: Just when I thought Justi...</td>\n",
       "      <td>hate_speech</td>\n",
       "    </tr>\n",
       "    <tr>\n",
       "      <th>23654</th>\n",
       "      <td>3</td>\n",
       "      <td>0</td>\n",
       "      <td>3</td>\n",
       "      <td>0</td>\n",
       "      <td>bitches ain&amp;#8217;t shit, and they ain&amp;#8217;t...</td>\n",
       "      <td>hate_speech</td>\n",
       "    </tr>\n",
       "  </tbody>\n",
       "</table>\n",
       "<p>22304 rows × 6 columns</p>\n",
       "</div>"
      ],
      "text/plain": [
       "       count  hate_speech  offensive_language  neither  \\\n",
       "8057       3            0                   3        0   \n",
       "313        3            0                   0        3   \n",
       "15568      3            0                   3        0   \n",
       "13789      3            0                   3        0   \n",
       "17837      6            0                   6        0   \n",
       "...      ...          ...                 ...      ...   \n",
       "21575      3            0                   0        3   \n",
       "5390       3            0                   3        0   \n",
       "860        3            1                   2        0   \n",
       "15795      3            0                   3        0   \n",
       "23654      3            0                   3        0   \n",
       "\n",
       "                                                   tweet        label  \n",
       "8057   Bitches ah have a baby &amp; be like \"don't cl...  hate_speech  \n",
       "313    \"@ayyee_ceee_: One mans trash &#128686; is ano...      neither  \n",
       "15568  RT @IKeepitRealer: ChrisBrown a bitch 4 hittin...  hate_speech  \n",
       "13789  People comment on my fb statuses like \"How was...  hate_speech  \n",
       "17837  RT @TreLeKidd: Yo bitch is Gucci Mane RT @Jaba...  hate_speech  \n",
       "...                                                  ...          ...  \n",
       "21575  The last at-bat at Yankee Stadium. Thanks for ...      neither  \n",
       "5390   @_bradleey LMFAOOOO yooo I lost my elevator pa...  hate_speech  \n",
       "860    #porn,#android,#iphone,#ipad,#sex,#xxx, | #Ana...  hate_speech  \n",
       "15795  RT @JennyJohnsonHi5: Just when I thought Justi...  hate_speech  \n",
       "23654  bitches ain&#8217;t shit, and they ain&#8217;t...  hate_speech  \n",
       "\n",
       "[22304 rows x 6 columns]"
      ]
     },
     "execution_count": 20,
     "metadata": {},
     "output_type": "execute_result"
    }
   ],
   "source": [
    "df_train"
   ]
  },
  {
   "cell_type": "code",
   "execution_count": 21,
   "id": "764bd45b-3b5c-42d3-8389-a63d3900589c",
   "metadata": {},
   "outputs": [
    {
     "data": {
      "text/plain": [
       "((22304, 6), (1239, 6), (1240, 6))"
      ]
     },
     "execution_count": 21,
     "metadata": {},
     "output_type": "execute_result"
    }
   ],
   "source": [
    "\n",
    "df_train.shape, df_val.shape, df_test.shape"
   ]
  },
  {
   "cell_type": "code",
   "execution_count": 22,
   "id": "cc28fce8-8956-4e78-9687-dc17b6713de5",
   "metadata": {},
   "outputs": [],
   "source": [
    "def create_data_loader(df, tokenizer, max_len, batch_size):\n",
    "  ds = tweet_dataset(\n",
    "    tweet=df.tweet.to_numpy(),\n",
    "    targets=df.label.to_numpy(),\n",
    "    tokenizer=tokenizer,\n",
    "    max_len=max_len\n",
    "  )\n",
    "\n",
    "  return DataLoader(\n",
    "    ds,\n",
    "    batch_size=batch_size,\n",
    "    num_workers=4\n",
    "  )"
   ]
  },
  {
   "cell_type": "code",
   "execution_count": 23,
   "id": "ca8312a5-5b37-4343-b4b4-07363848143d",
   "metadata": {},
   "outputs": [],
   "source": [
    "BATCH_SIZE = 16\n",
    "\n",
    "train_data_loader = create_data_loader(df_train, tokenizer, MAX_LEN, BATCH_SIZE)\n",
    "val_data_loader = create_data_loader(df_val, tokenizer, MAX_LEN, BATCH_SIZE)\n",
    "test_data_loader = create_data_loader(df_test, tokenizer, MAX_LEN, BATCH_SIZE)"
   ]
  }
 ],
 "metadata": {
  "kernelspec": {
   "display_name": "Python 3 (ipykernel)",
   "language": "python",
   "name": "python3"
  },
  "language_info": {
   "codemirror_mode": {
    "name": "ipython",
    "version": 3
   },
   "file_extension": ".py",
   "mimetype": "text/x-python",
   "name": "python",
   "nbconvert_exporter": "python",
   "pygments_lexer": "ipython3",
   "version": "3.12.5"
  }
 },
 "nbformat": 4,
 "nbformat_minor": 5
}
